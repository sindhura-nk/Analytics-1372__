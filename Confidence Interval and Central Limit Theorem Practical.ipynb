{
 "cells": [
  {
   "cell_type": "markdown",
   "id": "706a9fd3-2e88-4d10-8c5d-e9930e8161ce",
   "metadata": {},
   "source": [
    "## Confidence Interval"
   ]
  },
  {
   "cell_type": "markdown",
   "id": "42637b87-aed2-4a14-a617-2213af164c33",
   "metadata": {},
   "source": [
    "when the sample size is less than 30, we consider T-Test"
   ]
  },
  {
   "cell_type": "code",
   "execution_count": 3,
   "id": "6aa5f9f6-b473-4fb0-90a6-b9f0188982da",
   "metadata": {
    "scrolled": true
   },
   "outputs": [
    {
     "name": "stdout",
     "output_type": "stream",
     "text": [
      "Sample Mean: 13.3\n",
      "Population Mean with 95% Confidence Interval: [np.float64(11.95), np.float64(14.65)]\n"
     ]
    }
   ],
   "source": [
    "import numpy as np\n",
    "import scipy.stats as st\n",
    "\n",
    "# Sample data\n",
    "data = [12, 15, 14, 10, 13, 15, 16, 14, 11, 13]\n",
    "n = len(data)\n",
    "mean = np.mean(data)\n",
    "std_err = st.sem(data)  # standard error = s/sqrt(n)\n",
    "\n",
    "# 95% confidence interval using t-distribution because size of data is less than 30\n",
    "ci = st.t.interval(0.95, df=n-1, loc=mean, scale=std_err)\n",
    "# df: Degrees of freedom represent the number of observations that can freely change without violating a constraint in the data or model. \n",
    "\n",
    "ci = [i.round(2) for i in ci]\n",
    "print(\"Sample Mean:\", mean)\n",
    "print(\"Population Mean with 95% Confidence Interval:\", ci)\n"
   ]
  },
  {
   "cell_type": "markdown",
   "id": "59a21082-949f-4ad3-a0ef-09992a64eca3",
   "metadata": {},
   "source": [
    "Sample size greater than 30, z test is considered"
   ]
  },
  {
   "cell_type": "code",
   "execution_count": 5,
   "id": "b2e2ad7d-dcf3-4cb6-9a57-f7412afe23df",
   "metadata": {},
   "outputs": [
    {
     "name": "stdout",
     "output_type": "stream",
     "text": [
      "Sample size: 50\n",
      "Mean: 47.745260947438595\n",
      "Standard Error: 1.3204070541034636\n",
      "95% Confidence Interval (Z-test): (np.float64(45.157310676463176), np.float64(50.333211218414014))\n"
     ]
    }
   ],
   "source": [
    "import numpy as np\n",
    "import scipy.stats as st\n",
    "\n",
    "# Example: Larger sample (n > 30)\n",
    "np.random.seed(42)\n",
    "data = np.random.normal(loc=50, scale=10, size=50)  # 50 samples\n",
    "\n",
    "n = len(data)\n",
    "# sample mean\n",
    "mean = np.mean(data)\n",
    "# standard error\n",
    "std_err = st.sem(data) \n",
    "\n",
    "# Z critical value for 95% confidence (two-tailed)\n",
    "z = st.norm.ppf(0.975)  # 95 percentile → 1.96\n",
    "# This function is the percent-point function (inverse of the cumulative distribution function) for the standard normal distribution.\n",
    "\n",
    "# Confidence Interval\n",
    "ci_lower = mean - z * std_err\n",
    "ci_upper = mean + z * std_err\n",
    "\n",
    "print(\"Sample size:\", n)\n",
    "print(\"Mean:\", mean)\n",
    "print(\"Standard Error:\", std_err)\n",
    "print(\"95% Confidence Interval (Z-test):\", (ci_lower, ci_upper))\n"
   ]
  },
  {
   "cell_type": "markdown",
   "id": "8a4eefa7-1ade-4f7e-8aa1-f839008c46b4",
   "metadata": {},
   "source": [
    "    In above code, why did we consider ppf as 0.975 for 95 % confidence interval?\n",
    "    To find the z-score for a 95% confidence interval, you need to consider that a 95% confidence interval means there is 2.5% in \n",
    "    each tail of the distribution (100% - 95% = 5%, divided by 2 for each tail). \n",
    "    Therefore, you need to find the z-score that corresponds to a cumulative probability of 0.975 (1 - 0.025).\n",
    "\n",
    "    How would you calculate z score for 80% confidence interval?\n",
    "    100 - 80 = 20\n",
    "    2 tails : 20/2=10 => convert into decimal =>0.1\n",
    "    1-0.1 => 0.9\n"
   ]
  },
  {
   "cell_type": "code",
   "execution_count": 6,
   "id": "a5e5f4f3-9afc-483c-8e34-e1c4507a06d7",
   "metadata": {},
   "outputs": [
    {
     "name": "stdout",
     "output_type": "stream",
     "text": [
      "Sample size: 50\n",
      "Mean: 47.745260947438595\n",
      "Standard Error: 1.3204070541034636\n",
      "95% Confidence Interval (Z-test): (np.float64(46.05309122009617), np.float64(49.43743067478102))\n"
     ]
    }
   ],
   "source": [
    "import numpy as np\n",
    "import scipy.stats as st\n",
    "\n",
    "# Example: Larger sample (n > 30)\n",
    "np.random.seed(42)\n",
    "data = np.random.normal(loc=50, scale=10, size=50)  # 50 samples\n",
    "\n",
    "n = len(data)\n",
    "# sample mean\n",
    "mean = np.mean(data)\n",
    "# standard error\n",
    "std_err = st.sem(data) \n",
    "\n",
    "# Z critical value for 80% confidence (two-tailed)\n",
    "z = st.norm.ppf(0.9)  # 80% percentile \n",
    "# This function is the percent-point function (inverse of the cumulative distribution function) for the standard normal distribution.\n",
    "\n",
    "# Confidence Interval\n",
    "ci_lower = mean - z * std_err\n",
    "ci_upper = mean + z * std_err\n",
    "\n",
    "print(\"Sample size:\", n)\n",
    "print(\"Mean:\", mean)\n",
    "print(\"Standard Error:\", std_err)\n",
    "print(\"95% Confidence Interval (Z-test):\", (ci_lower, ci_upper))"
   ]
  },
  {
   "cell_type": "markdown",
   "id": "bc2d9d23-8a87-4427-8da9-25bcf5e6e798",
   "metadata": {},
   "source": [
    "## Central Limit Theorem"
   ]
  },
  {
   "cell_type": "markdown",
   "id": "05533e69-9d64-4e28-86d5-5f5c67207930",
   "metadata": {},
   "source": [
    "Scenario: Number of bikes rented per day at a city bike-sharing station\n",
    "\n",
    "On most days, the station rents 20–50 bikes per day.\n",
    "\n",
    "On weekends or during city events, they rent 60–100 bikes per day.\n",
    "\n",
    "The distribution is slightly skewed because of occasional very busy days.\n",
    "\n",
    "We can simulate this scenario in Python and explore basic statistics and visualization."
   ]
  },
  {
   "cell_type": "code",
   "execution_count": 7,
   "id": "9099954b-9d9a-4ea9-b08d-fe3a9c4aea3e",
   "metadata": {},
   "outputs": [
    {
     "name": "stdout",
     "output_type": "stream",
     "text": [
      "[ 28  48  34  32  20  44  26  28  43  20  31  27  43  50  30  38  36  27\n",
      "  22  22  20  46  24  29  26  45  28  47  26  28  27  31  21  20  35  42\n",
      "  42  49  43  24  22  31  27  41  46  22  20  22  24  34  33  22  20  24\n",
      "  45  42  50  33  26  46  28  34  34  45  29  47  32  38  50  26  36  39\n",
      "  48  23  49  24  42  26  32  34  30  48  23  32  26  46  38  41  47  21\n",
      "  29  32  49  44  40  25  47  47  31  31  39  49  49  30  45  42  47  44\n",
      "  26  49  20  20  44  46  49  44  39  32  28  22  26  25  27  46  28  49\n",
      "  24  20  38  29  31  43  34  46  41  43  28  39  36  49  36  45  39  31\n",
      "  49  26  21  22  36  24  36  43  36  46  36  21  21  47  41  42  24  20\n",
      "  20  38  49  21  40  31  45  25  42  23  42  30  43  46  36  50  25  43\n",
      "  24  39  21  25  41  30  50  35  35  20  28  47  46  25  35  48  22  39\n",
      "  47  46  23  38  45  22  50  38  39  26  39  28  20  27  26  37  27  20\n",
      "  30  47  44  44  37  42  50  49  29  22  26  47  35  45  35  44  39  47\n",
      "  36  21  20  35  49  31  24  24  46  42  28  28  22  38  35  35  22  39\n",
      "  43  41  43  20  43  39  30  36  27  23  25  27  39  49  22  35  49  44\n",
      "  22  44  48  37  33  37  21  41  22  35  48  28  23  20  23  20  33  40\n",
      "  35  39  43  27  26  22  36  20  35  31  46  38  81  81  89  97  97  67\n",
      "  86  86  93  80  89  92  87  92  64  78  63  94  76  87  89  88  65  94\n",
      " 100  96  83  88  90  94  92  80  91  82  92  62  77  84  90  62  99  83\n",
      "  91  81  82  61  86  61  85  76  99  92  68  98  88  85  94  84  83  72\n",
      "  66  95  79  60  67]\n"
     ]
    }
   ],
   "source": [
    "import numpy as np\n",
    "import matplotlib.pyplot as plt\n",
    "\n",
    "# Simulate bike rentals per day for a year (365 days)\n",
    "# Most days: 20-50 bikes (normal days)\n",
    "normal_days = np.random.randint(20, 51, size=300)\n",
    "\n",
    "# Busy days: 60-100 bikes (weekends, events)\n",
    "busy_days = np.random.randint(60, 101, size=65)\n",
    "\n",
    "# Combine the data\n",
    "bike_rentals = np.concatenate([normal_days, busy_days])\n",
    "\n",
    "print(bike_rentals)"
   ]
  },
  {
   "cell_type": "code",
   "execution_count": 8,
   "id": "7ce1e730-f817-41a0-9ac6-f8058af7f347",
   "metadata": {},
   "outputs": [
    {
     "data": {
      "text/plain": [
       "365"
      ]
     },
     "execution_count": 8,
     "metadata": {},
     "output_type": "execute_result"
    }
   ],
   "source": [
    "len(bike_rentals)"
   ]
  },
  {
   "cell_type": "code",
   "execution_count": 9,
   "id": "dce4e447-2a91-488d-8f9a-854449b29a13",
   "metadata": {},
   "outputs": [
    {
     "name": "stdout",
     "output_type": "stream",
     "text": [
      "Mean bikes rented per day: 43.14520547945205\n",
      "Median bikes rented per day: 38.0\n",
      "Max bikes rented in a day: 100\n",
      "Min bikes rented in a day: 20\n"
     ]
    }
   ],
   "source": [
    "# Basic statistics\n",
    "print(\"Mean bikes rented per day:\", np.mean(bike_rentals))\n",
    "print(\"Median bikes rented per day:\", np.median(bike_rentals))\n",
    "print(\"Max bikes rented in a day:\", np.max(bike_rentals))\n",
    "print(\"Min bikes rented in a day:\", np.min(bike_rentals))"
   ]
  },
  {
   "cell_type": "code",
   "execution_count": 10,
   "id": "ce6a4b9e-291a-4697-986e-3af7f61e58cb",
   "metadata": {},
   "outputs": [
    {
     "data": {
      "image/png": "[encoded data removed]",
      "text/plain": [
       "<Figure size 640x480 with 1 Axes>"
      ]
     },
     "metadata": {},
     "output_type": "display_data"
    }
   ],
   "source": [
    "# Visualize the distribution\n",
    "plt.hist(bike_rentals, bins=20, color='skyblue', edgecolor='black')\n",
    "plt.title(\"Daily Bike Rentals Distribution\")\n",
    "plt.xlabel(\"Number of Bikes Rented\")\n",
    "plt.ylabel(\"Frequency\")\n",
    "plt.show()"
   ]
  },
  {
   "cell_type": "code",
   "execution_count": 11,
   "id": "dedb0562-c683-4093-9d1f-26d03704bd25",
   "metadata": {},
   "outputs": [
    {
     "name": "stdout",
     "output_type": "stream",
     "text": [
      "Original Data Mean: 43.14520547945205\n",
      "Mean of Sample Means: 43.22383333333334\n",
      "Standard Deviation of Sample Means: 3.830241619155521\n"
     ]
    }
   ],
   "source": [
    "import numpy as np\n",
    "import matplotlib.pyplot as plt\n",
    "\n",
    "# Assume bike_rentals data from previous example\n",
    "# bike_rentals already contains 365 days of data\n",
    "\n",
    "# Parameters for sampling\n",
    "sample_size = 30      # Number of days per sample\n",
    "num_samples = 1000    # Number of samples to draw\n",
    "\n",
    "# Store sample means\n",
    "sample_means = []\n",
    "\n",
    "# Draw random samples and calculate means\n",
    "for _ in range(num_samples):\n",
    "    sample = np.random.choice(bike_rentals, size=sample_size, replace=True)\n",
    "    sample_means.append(np.mean(sample))\n",
    "\n",
    "# Convert to numpy array\n",
    "sample_means = np.array(sample_means)\n",
    "\n",
    "# Compare original data mean vs sample means mean\n",
    "print(\"Original Data Mean:\", np.mean(bike_rentals))\n",
    "print(\"Mean of Sample Means:\", np.mean(sample_means))\n",
    "print(\"Standard Deviation of Sample Means:\", np.std(sample_means))"
   ]
  },
  {
   "cell_type": "code",
   "execution_count": 12,
   "id": "ae3bb317-a852-46e0-8b47-fd0202ef7d78",
   "metadata": {},
   "outputs": [
    {
     "data": {
      "image/png": "[encoded data removed]",
      "text/plain": [
       "<Figure size 640x480 with 1 Axes>"
      ]
     },
     "metadata": {},
     "output_type": "display_data"
    }
   ],
   "source": [
    "# Plot the distribution of sample means\n",
    "plt.hist(sample_means, bins=30, color='lightgreen', edgecolor='black')\n",
    "plt.title(f\"Distribution of Sample Means (n={sample_size})\")\n",
    "plt.xlabel(\"Sample Mean of Bikes Rented\")\n",
    "plt.ylabel(\"Frequency\")\n",
    "plt.show()"
   ]
  },
  {
   "cell_type": "code",
   "execution_count": 13,
   "id": "4496c8ff-c92d-458e-9ffa-9294224d4c49",
   "metadata": {},
   "outputs": [
    {
     "name": "stdout",
     "output_type": "stream",
     "text": [
      "Original Data Mean: 43.14520547945205\n",
      "Mean of Sample Means: 43.06606\n",
      "Standard Deviation of Sample Means: 2.9496096820426936\n"
     ]
    }
   ],
   "source": [
    "import numpy as np\n",
    "import matplotlib.pyplot as plt\n",
    "\n",
    "# Assume bike_rentals data from previous example\n",
    "# bike_rentals already contains 365 days of data\n",
    "\n",
    "# Parameters for sampling\n",
    "sample_size = 50      # Number of days per sample\n",
    "num_samples = 1000    # Number of samples to draw\n",
    "\n",
    "# Store sample means\n",
    "sample_means = []\n",
    "\n",
    "# Draw random samples and calculate means\n",
    "for _ in range(num_samples):\n",
    "    sample = np.random.choice(bike_rentals, size=sample_size, replace=True)\n",
    "    sample_means.append(np.mean(sample))\n",
    "\n",
    "# Convert to numpy array\n",
    "sample_means = np.array(sample_means)\n",
    "\n",
    "# Compare original data mean vs sample means mean\n",
    "print(\"Original Data Mean:\", np.mean(bike_rentals))\n",
    "print(\"Mean of Sample Means:\", np.mean(sample_means))\n",
    "print(\"Standard Deviation of Sample Means:\", np.std(sample_means))"
   ]
  },
  {
   "cell_type": "code",
   "execution_count": null,
   "id": "205358bb-21ee-413b-83a9-cd5a21d6c593",
   "metadata": {},
   "outputs": [],
   "source": [
    "# Plot the distribution of sample means\n",
    "plt.hist(sample_means, bins=30, color='lightgreen', edgecolor='black')\n",
    "plt.title(f\"Distribution of Sample Means (n={sample_size})\")\n",
    "plt.xlabel(\"Sample Mean of Bikes Rented\")\n",
    "plt.ylabel(\"Frequency\")\n",
    "plt.show()"
   ]
  },
  {
   "cell_type": "code",
   "execution_count": 14,
   "id": "54042cc0-7dfe-46f9-8be4-909fc867a075",
   "metadata": {},
   "outputs": [
    {
     "name": "stdout",
     "output_type": "stream",
     "text": [
      "Original Data Mean: 43.14520547945205\n",
      "Mean of Sample Means: 43.0388125\n",
      "Standard Deviation of Sample Means: 2.328547628586057\n"
     ]
    }
   ],
   "source": [
    "import numpy as np\n",
    "import matplotlib.pyplot as plt\n",
    "\n",
    "# Assume bike_rentals data from previous example\n",
    "# bike_rentals already contains 365 days of data\n",
    "\n",
    "# Parameters for sampling\n",
    "sample_size = 80      # Number of days per sample\n",
    "num_samples = 1000    # Number of samples to draw\n",
    "\n",
    "# Store sample means\n",
    "sample_means = []\n",
    "\n",
    "# Draw random samples and calculate means\n",
    "for _ in range(num_samples):\n",
    "    sample = np.random.choice(bike_rentals, size=sample_size, replace=True)\n",
    "    sample_means.append(np.mean(sample))\n",
    "\n",
    "# Convert to numpy array\n",
    "sample_means = np.array(sample_means)\n",
    "\n",
    "# Compare original data mean vs sample means mean\n",
    "print(\"Original Data Mean:\", np.mean(bike_rentals))\n",
    "print(\"Mean of Sample Means:\", np.mean(sample_means))\n",
    "print(\"Standard Deviation of Sample Means:\", np.std(sample_means))"
   ]
  },
  {
   "cell_type": "code",
   "execution_count": 15,
   "id": "47d2ab8c-4f20-4f8e-9830-94a5ed1a63b1",
   "metadata": {},
   "outputs": [
    {
     "data": {
      "image/png": "[encoded data removed]",
      "text/plain": [
       "<Figure size 640x480 with 1 Axes>"
      ]
     },
     "metadata": {},
     "output_type": "display_data"
    }
   ],
   "source": [
    "# Plot the distribution of sample means\n",
    "plt.hist(sample_means, bins=30, color='lightgreen', edgecolor='black')\n",
    "plt.title(f\"Distribution of Sample Means (n={sample_size})\")\n",
    "plt.xlabel(\"Sample Mean of Bikes Rented\")\n",
    "plt.ylabel(\"Frequency\")\n",
    "plt.show()"
   ]
  },
  {
   "cell_type": "code",
   "execution_count": null,
   "id": "74787ccc-dc4c-4c86-aea1-e87529ddaea5",
   "metadata": {},
   "outputs": [],
   "source": []
  }
 ],
 "metadata": {
  "kernelspec": {
   "display_name": "Python 3 (ipykernel)",
   "language": "python",
   "name": "python3"
  },
  "language_info": {
   "codemirror_mode": {
    "name": "ipython",
    "version": 3
   },
   "file_extension": ".py",
   "mimetype": "text/x-python",
   "name": "python",
   "nbconvert_exporter": "python",
   "pygments_lexer": "ipython3",
   "version": "3.13.5"
  }
 },
 "nbformat": 4,
 "nbformat_minor": 5
}
