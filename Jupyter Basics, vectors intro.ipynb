{
 "cells": [
  {
   "cell_type": "code",
   "execution_count": 1,
   "id": "65e57fbb-dd2c-418a-afb1-3583112f4358",
   "metadata": {},
   "outputs": [
    {
     "name": "stdout",
     "output_type": "stream",
     "text": [
      "Welcome to the Analytics session\n"
     ]
    }
   ],
   "source": [
    "print(\"Welcome to the Analytics session\")"
   ]
  },
  {
   "cell_type": "markdown",
   "id": "455aefd9-119c-46bd-beba-f9db385208d5",
   "metadata": {},
   "source": [
    "Understanding the Basics of Jupyter Notebook"
   ]
  },
  {
   "cell_type": "markdown",
   "id": "63c3ea00-dbff-427c-802f-f96fcdbe57b8",
   "metadata": {},
   "source": [
    "# Python\n",
    "## Python Basics\n",
    "### Datatypes\n",
    "#### Operators"
   ]
  },
  {
   "cell_type": "code",
   "execution_count": 2,
   "id": "a98e22a6-7d79-464d-88b2-bb3695988004",
   "metadata": {},
   "outputs": [
    {
     "name": "stdout",
     "output_type": "stream",
     "text": [
      "Raman 10123\n"
     ]
    }
   ],
   "source": [
    "name = \"Raman\"\n",
    "ids = 10123\n",
    "temp = 98.7\n",
    "married = True\n",
    "print(name,ids)"
   ]
  },
  {
   "cell_type": "code",
   "execution_count": 3,
   "id": "4bff26f8-a335-437e-9d8a-6457e0c6353b",
   "metadata": {},
   "outputs": [],
   "source": [
    "emp_data = [201,\"Thaman\",\"IT\"]\n",
    "emp_ids = (101,102,103,104)\n",
    "emp_dict = {\"student_ids\":(1,2,3,4,5),\"student_names\":(\"Raman\",\"Thaman\",\"Suman\")}\n",
    "emp_set_ids = {101,101,102,103,104}"
   ]
  },
  {
   "cell_type": "code",
   "execution_count": 4,
   "id": "47ec6fb5-49e3-4d84-ac69-2c125476c250",
   "metadata": {},
   "outputs": [],
   "source": [
    "#print(name)"
   ]
  },
  {
   "cell_type": "code",
   "execution_count": 5,
   "id": "a3c45c99-f2d9-44c0-98f3-c9db6565460c",
   "metadata": {},
   "outputs": [
    {
     "name": "stdout",
     "output_type": "stream",
     "text": [
      "Raman 10123 98.7 True\n"
     ]
    }
   ],
   "source": [
    "print(name,ids,temp,married)"
   ]
  },
  {
   "cell_type": "code",
   "execution_count": 6,
   "id": "1c5e83a6-3fb0-4e5f-bb96-10ba113f4b5d",
   "metadata": {},
   "outputs": [
    {
     "name": "stdout",
     "output_type": "stream",
     "text": [
      "[201, 'Thaman', 'IT']\n",
      "{'student_ids': (1, 2, 3, 4, 5), 'student_names': ('Raman', 'Thaman', 'Suman')}\n",
      "(101, 102, 103, 104)\n",
      "{104, 101, 102, 103}\n"
     ]
    }
   ],
   "source": [
    "print(emp_data)\n",
    "print(emp_dict)\n",
    "print(emp_ids)\n",
    "print(emp_set_ids)"
   ]
  },
  {
   "cell_type": "code",
   "execution_count": 7,
   "id": "1511bd03-f40c-465e-b6a5-bac677e1455a",
   "metadata": {},
   "outputs": [
    {
     "name": "stdout",
     "output_type": "stream",
     "text": [
      "[30000, 50000, 72000, 61000]\n"
     ]
    }
   ],
   "source": [
    "salaries = [25000,45000,67000,56000]\n",
    "updated_salaries = []\n",
    "for i in salaries:\n",
    "    c = i+5000\n",
    "    updated_salaries.append(c)\n",
    "print(updated_salaries)"
   ]
  },
  {
   "cell_type": "code",
   "execution_count": 8,
   "id": "2acce0f4-c20b-4b2a-9d4a-bcb732fcd3cb",
   "metadata": {},
   "outputs": [
    {
     "name": "stdout",
     "output_type": "stream",
     "text": [
      "[25000, 45000]\n"
     ]
    }
   ],
   "source": [
    "# write a function that takes salaries as input and returns salaries less than 50000\n",
    "updated_sal = []\n",
    "def check_sal(ip):\n",
    "    if ip<50000:\n",
    "        updated_sal.append(ip)\n",
    "    return updated_sal\n",
    "# Run a loop over salaries list and call the above function check_sal\n",
    "for i in salaries:\n",
    "    checked_sal = check_sal(i)\n",
    "print(checked_sal)"
   ]
  },
  {
   "cell_type": "code",
   "execution_count": 9,
   "id": "b2be5d23-50d1-4520-84a0-8c625dc768c3",
   "metadata": {},
   "outputs": [],
   "source": [
    "updated_sal2 = []\n",
    "def check_sal2(sal_ip):\n",
    "    for i in sal_ip:\n",
    "        if i<50000:\n",
    "            updated_sal2.append(i)\n",
    "    return updated_sal2"
   ]
  },
  {
   "cell_type": "code",
   "execution_count": 10,
   "id": "51bf0eef-0999-44f3-a479-bca59d337daa",
   "metadata": {},
   "outputs": [
    {
     "name": "stdout",
     "output_type": "stream",
     "text": [
      "[25000, 45000]\n"
     ]
    }
   ],
   "source": [
    "# call the above function and pass salaries list as input\n",
    "sal_op = check_sal2(salaries)\n",
    "print(sal_op)"
   ]
  },
  {
   "cell_type": "code",
   "execution_count": 11,
   "id": "212faf39-1db7-4fc1-b9eb-527cf8b622aa",
   "metadata": {},
   "outputs": [
    {
     "name": "stdin",
     "output_type": "stream",
     "text": [
      "Enter the name:  raman\n"
     ]
    },
    {
     "name": "stdout",
     "output_type": "stream",
     "text": [
      "raman\n"
     ]
    },
    {
     "data": {
      "text/plain": [
       "[201, 'Thaman', 'IT']"
      ]
     },
     "execution_count": 11,
     "metadata": {},
     "output_type": "execute_result"
    }
   ],
   "source": [
    "ip = input(\"Enter the name: \")\n",
    "print(ip)\n",
    "emp_data"
   ]
  },
  {
   "cell_type": "code",
   "execution_count": 12,
   "id": "cb0dad2c-5349-4e70-b5e6-de982a540630",
   "metadata": {},
   "outputs": [],
   "source": [
    "#print(ip)"
   ]
  },
  {
   "cell_type": "code",
   "execution_count": 13,
   "id": "a7e3dea3-9284-4c22-825c-709220b13b79",
   "metadata": {},
   "outputs": [],
   "source": [
    "# Write a function that takes list of integer data as input, squares the elements and returns a new list of squared data\n",
    "sq_data = []\n",
    "def sq_nums(data):\n",
    "    for i in data:\n",
    "        c = i**2\n",
    "        sq_data.append(c)\n",
    "        # sq_nums.append(i**2)\n",
    "    return sq_data"
   ]
  },
  {
   "cell_type": "code",
   "execution_count": 14,
   "id": "868798f1-64cb-493b-a0d6-39dc232c676e",
   "metadata": {},
   "outputs": [],
   "source": [
    "lst = [23,45,67,78]"
   ]
  },
  {
   "cell_type": "code",
   "execution_count": 15,
   "id": "02087b95-219e-4077-96a2-ec64cf60b192",
   "metadata": {},
   "outputs": [
    {
     "name": "stdout",
     "output_type": "stream",
     "text": [
      "[529, 2025, 4489, 6084]\n"
     ]
    }
   ],
   "source": [
    "sq_op = sq_nums(lst)\n",
    "print(sq_op)"
   ]
  },
  {
   "cell_type": "code",
   "execution_count": 16,
   "id": "17545af5-0077-454e-9dd5-c892cfd8c613",
   "metadata": {},
   "outputs": [
    {
     "data": {
      "text/plain": [
       "<map at 0x28bc6c8dcc0>"
      ]
     },
     "execution_count": 16,
     "metadata": {},
     "output_type": "execute_result"
    }
   ],
   "source": [
    "# combination of lambda and map functions\n",
    "map(lambda x:x**2,lst)"
   ]
  },
  {
   "cell_type": "code",
   "execution_count": 17,
   "id": "7d6368c4-6bbc-4da8-ba9e-689ae93f03d9",
   "metadata": {},
   "outputs": [
    {
     "data": {
      "text/plain": [
       "[529, 2025, 4489, 6084]"
      ]
     },
     "execution_count": 17,
     "metadata": {},
     "output_type": "execute_result"
    }
   ],
   "source": [
    "list(map(lambda x:x**2,lst))"
   ]
  },
  {
   "cell_type": "code",
   "execution_count": 18,
   "id": "312f1d61-4118-4f99-8e61-0b42038610cb",
   "metadata": {},
   "outputs": [
    {
     "name": "stdout",
     "output_type": "stream",
     "text": [
      "[529, 2025, 4489, 6084]\n"
     ]
    }
   ],
   "source": [
    "# List comprehension\n",
    "sq_op2 = [i**2 for i in lst]\n",
    "print(sq_op2)"
   ]
  },
  {
   "cell_type": "code",
   "execution_count": 19,
   "id": "0252dddf-7e4a-4f0a-a6b6-54c1cdf3ee52",
   "metadata": {},
   "outputs": [
    {
     "data": {
      "text/plain": [
       "False"
      ]
     },
     "execution_count": 19,
     "metadata": {},
     "output_type": "execute_result"
    }
   ],
   "source": [
    "25>90"
   ]
  },
  {
   "cell_type": "code",
   "execution_count": 20,
   "id": "df4c8d11-c2f6-40f5-9a66-91ffe106f840",
   "metadata": {},
   "outputs": [
    {
     "data": {
      "text/plain": [
       "[529, 2025, 4489, 6084]"
      ]
     },
     "execution_count": 20,
     "metadata": {},
     "output_type": "execute_result"
    }
   ],
   "source": [
    "sq_op"
   ]
  },
  {
   "cell_type": "code",
   "execution_count": 21,
   "id": "97c4187c-8acd-4f5d-a67c-401dbdab9c32",
   "metadata": {},
   "outputs": [
    {
     "data": {
      "text/plain": [
       "[529, 2025, 4489, 6084]"
      ]
     },
     "execution_count": 21,
     "metadata": {},
     "output_type": "execute_result"
    }
   ],
   "source": [
    "sq_op2"
   ]
  },
  {
   "cell_type": "code",
   "execution_count": 22,
   "id": "8131776f-af66-4330-8a9c-8a632a35c057",
   "metadata": {},
   "outputs": [
    {
     "data": {
      "text/plain": [
       "[529, 2025, 4489, 6084, 529, 2025, 4489, 6084]"
      ]
     },
     "execution_count": 22,
     "metadata": {},
     "output_type": "execute_result"
    }
   ],
   "source": [
    "sq_op + sq_op2"
   ]
  },
  {
   "cell_type": "markdown",
   "id": "59566262-f2b0-49d5-a3c2-f633f977196f",
   "metadata": {},
   "source": [
    "## Numeric Python - NumPY"
   ]
  },
  {
   "cell_type": "markdown",
   "id": "7604e49a-6f52-4465-9f41-723628413b0e",
   "metadata": {},
   "source": [
    "## You can create 1 D data using numpy arrays\n",
    "    Syntax:\n",
    "    array_name = np.array(list of data)\n",
    "    example: np.array([23,45,67])"
   ]
  },
  {
   "cell_type": "code",
   "execution_count": 23,
   "id": "e49e1085-6f29-4cdd-af0e-7d953ac5c591",
   "metadata": {},
   "outputs": [
    {
     "data": {
      "text/plain": [
       "[529, 2025, 4489, 6084]"
      ]
     },
     "execution_count": 23,
     "metadata": {},
     "output_type": "execute_result"
    }
   ],
   "source": [
    "sq_op"
   ]
  },
  {
   "cell_type": "code",
   "execution_count": 24,
   "id": "1fa49f3d-8240-4c4f-a60f-a14c96ab412c",
   "metadata": {},
   "outputs": [],
   "source": [
    "import numpy as np"
   ]
  },
  {
   "cell_type": "code",
   "execution_count": 25,
   "id": "d08a3b7e-b469-4f3d-9edd-dfed7ec0ef78",
   "metadata": {},
   "outputs": [
    {
     "name": "stdout",
     "output_type": "stream",
     "text": [
      "[ 529 2025 4489 6084]\n"
     ]
    }
   ],
   "source": [
    "arr1 = np.array(sq_op)\n",
    "print(arr1)"
   ]
  },
  {
   "cell_type": "code",
   "execution_count": 26,
   "id": "55bec053-e375-4c77-be90-8305a847d06b",
   "metadata": {},
   "outputs": [
    {
     "data": {
      "text/plain": [
       "array([12, 34, 56])"
      ]
     },
     "execution_count": 26,
     "metadata": {},
     "output_type": "execute_result"
    }
   ],
   "source": [
    "np.array([12,34,56])"
   ]
  },
  {
   "cell_type": "code",
   "execution_count": 27,
   "id": "86661002-2cc8-4d24-8dbd-68ae47139ca8",
   "metadata": {},
   "outputs": [
    {
     "data": {
      "text/plain": [
       "numpy.ndarray"
      ]
     },
     "execution_count": 27,
     "metadata": {},
     "output_type": "execute_result"
    }
   ],
   "source": [
    "type(arr1)"
   ]
  },
  {
   "cell_type": "code",
   "execution_count": 28,
   "id": "bd1e89b8-c6ee-4c87-b5b5-0c6e83f7f8a0",
   "metadata": {},
   "outputs": [
    {
     "name": "stdout",
     "output_type": "stream",
     "text": [
      "[ 45  70  90 100]\n"
     ]
    }
   ],
   "source": [
    "arr2 = np.array([45,70,90,100])\n",
    "print(arr2)"
   ]
  },
  {
   "cell_type": "code",
   "execution_count": 29,
   "id": "662c89ca-8294-4df5-bafa-1b71ec63f7f9",
   "metadata": {},
   "outputs": [
    {
     "name": "stdout",
     "output_type": "stream",
     "text": [
      "Addition of 2 arrays [ 574 2095 4579 6184] is the output \n",
      "Subtraction of 2 arrays [ 484 1955 4399 5984]\n",
      "Multiplication of 2 arrays [ 23805 141750 404010 608400]\n",
      "Division of 2 arrays [11.75555556 28.92857143 49.87777778 60.84      ]\n"
     ]
    }
   ],
   "source": [
    "## Addition\n",
    "add_arr = arr1 + arr2\n",
    "\n",
    "## Subtraction\n",
    "sub_arr = arr1 - arr2\n",
    "\n",
    "## Multiplication\n",
    "mul_arr = arr1 * arr2\n",
    "\n",
    "## Division\n",
    "div_arr = arr1/arr2\n",
    "\n",
    "# f string\n",
    "print(f\"Addition of 2 arrays {add_arr} is the output \")\n",
    "# comma method\n",
    "print(\"Subtraction of 2 arrays\",sub_arr)\n",
    "print(f\"Multiplication of 2 arrays {mul_arr}\")\n",
    "print(f\"Division of 2 arrays {div_arr}\")"
   ]
  },
  {
   "cell_type": "markdown",
   "id": "14ef14e8-bcd3-413a-9943-ee29adb5e441",
   "metadata": {},
   "source": [
    "## String interpolation:\n",
    "## Print statement - variable substitution\n",
    "    I want to print below statement\n",
    "    Hi ----. My name is ------. I live in ------"
   ]
  },
  {
   "cell_type": "code",
   "execution_count": 30,
   "id": "6d54148b-711e-400c-9eb6-2b77db96b38b",
   "metadata": {},
   "outputs": [],
   "source": [
    "name = \"Raman\"\n",
    "location = \"Pune\"\n",
    "frnd = \"Suman\""
   ]
  },
  {
   "cell_type": "code",
   "execution_count": 31,
   "id": "1be808ad-223a-4e76-884c-e89e61cfac12",
   "metadata": {},
   "outputs": [
    {
     "name": "stdout",
     "output_type": "stream",
     "text": [
      "Hi Suman .My name is  Raman .I live in  Pune\n"
     ]
    }
   ],
   "source": [
    "print(\"Hi\",frnd,\".My name is \",name,\".I live in \",location)"
   ]
  },
  {
   "cell_type": "code",
   "execution_count": 32,
   "id": "7ff50c8e-152a-42a3-aac7-3a9e897e7ff2",
   "metadata": {},
   "outputs": [
    {
     "name": "stdout",
     "output_type": "stream",
     "text": [
      "Hi Suman. My name is Raman.I live in Pune\n"
     ]
    }
   ],
   "source": [
    "print(f\"Hi {frnd}. My name is {name}.I live in {location}\")"
   ]
  },
  {
   "cell_type": "code",
   "execution_count": 33,
   "id": "d546c941-579f-4fb6-8d36-337ebbfdee64",
   "metadata": {},
   "outputs": [
    {
     "name": "stdout",
     "output_type": "stream",
     "text": [
      "Hi Suman. My name is Raman. I live in Pune\n"
     ]
    }
   ],
   "source": [
    "print(\"Hi {}. My name is {}. I live in {}\".format(frnd,name,location))"
   ]
  },
  {
   "cell_type": "code",
   "execution_count": 34,
   "id": "e6691590-c35f-4d07-aaa6-dd3bcada9dc8",
   "metadata": {},
   "outputs": [
    {
     "name": "stdout",
     "output_type": "stream",
     "text": [
      "Hi Raman. I live in Pune\n"
     ]
    }
   ],
   "source": [
    "print(f\"Hi {name}. I live in {location}\")"
   ]
  },
  {
   "cell_type": "code",
   "execution_count": 35,
   "id": "29a32b4f-3379-4326-902b-e8796f0e3f43",
   "metadata": {},
   "outputs": [
    {
     "name": "stdout",
     "output_type": "stream",
     "text": [
      "Hi Raman. I live in Pune\n"
     ]
    }
   ],
   "source": [
    "print(\"Hi {}. I live in {}\".format(name,location))"
   ]
  },
  {
   "cell_type": "code",
   "execution_count": 36,
   "id": "e1e31198-99f9-48be-96b7-bb3db1458bc4",
   "metadata": {},
   "outputs": [
    {
     "name": "stdout",
     "output_type": "stream",
     "text": [
      "Hi Pune. I live in Raman\n"
     ]
    }
   ],
   "source": [
    "print(\"Hi {}. I live in {}\".format(location,name))"
   ]
  },
  {
   "cell_type": "markdown",
   "id": "8c066e61-441e-4bd0-b21a-16dc5c0aa610",
   "metadata": {},
   "source": [
    "## Today's Topic - 07th"
   ]
  },
  {
   "cell_type": "code",
   "execution_count": 37,
   "id": "8fef2254-ab7e-424f-85d8-a610717f090d",
   "metadata": {},
   "outputs": [
    {
     "data": {
      "text/plain": [
       "array([ 529, 2025, 4489, 6084])"
      ]
     },
     "execution_count": 37,
     "metadata": {},
     "output_type": "execute_result"
    }
   ],
   "source": [
    "arr1"
   ]
  },
  {
   "cell_type": "code",
   "execution_count": 39,
   "id": "807b264f-b07c-4bf7-b5ea-2cc7793f342f",
   "metadata": {},
   "outputs": [
    {
     "data": {
      "text/plain": [
       "4"
      ]
     },
     "execution_count": 39,
     "metadata": {},
     "output_type": "execute_result"
    }
   ],
   "source": [
    "len(arr1)"
   ]
  },
  {
   "cell_type": "code",
   "execution_count": 38,
   "id": "871cbdc1-73c6-4d25-a92e-afa9c83c1ace",
   "metadata": {},
   "outputs": [
    {
     "data": {
      "text/plain": [
       "array([ 45,  70,  90, 100])"
      ]
     },
     "execution_count": 38,
     "metadata": {},
     "output_type": "execute_result"
    }
   ],
   "source": [
    "arr2"
   ]
  },
  {
   "cell_type": "code",
   "execution_count": 41,
   "id": "47710278-0f3f-4780-b4ec-c19c2c828ca2",
   "metadata": {},
   "outputs": [
    {
     "data": {
      "text/plain": [
       "array([45, 78, 90, 12, 34])"
      ]
     },
     "execution_count": 41,
     "metadata": {},
     "output_type": "execute_result"
    }
   ],
   "source": [
    "arr3 = np.array([45,78,90,12,34])\n",
    "arr3"
   ]
  },
  {
   "cell_type": "code",
   "execution_count": 42,
   "id": "1e596eb6-6d22-46b3-a05f-58f09a0dc38f",
   "metadata": {},
   "outputs": [
    {
     "data": {
      "text/plain": [
       "5"
      ]
     },
     "execution_count": 42,
     "metadata": {},
     "output_type": "execute_result"
    }
   ],
   "source": [
    "len(arr3)"
   ]
  },
  {
   "cell_type": "markdown",
   "id": "ee61f4ca-076c-4e7c-8cf3-7cb5a9ea15b5",
   "metadata": {},
   "source": [
    "### If arrays have varying lengths, we cannot perform arithmetic operations. "
   ]
  },
  {
   "cell_type": "code",
   "execution_count": 43,
   "id": "4055e00e-d3ac-4c94-bc55-3c57fc7b44f1",
   "metadata": {
    "scrolled": true
   },
   "outputs": [
    {
     "ename": "ValueError",
     "evalue": "operands could not be broadcast together with shapes (4,) (5,) ",
     "output_type": "error",
     "traceback": [
      "\u001b[1;31m---------------------------------------------------------------------------\u001b[0m",
      "\u001b[1;31mValueError\u001b[0m                                Traceback (most recent call last)",
      "Cell \u001b[1;32mIn[43], line 1\u001b[0m\n\u001b[1;32m----> 1\u001b[0m arr1 \u001b[38;5;241m+\u001b[39m arr3\n",
      "\u001b[1;31mValueError\u001b[0m: operands could not be broadcast together with shapes (4,) (5,) "
     ]
    }
   ],
   "source": [
    "arr1 + arr3"
   ]
  },
  {
   "cell_type": "code",
   "execution_count": 45,
   "id": "49301814-a3d1-4cfd-ae98-fac26b3d553e",
   "metadata": {},
   "outputs": [
    {
     "data": {
      "text/plain": [
       "array([ 23805, 141750, 404010, 608400])"
      ]
     },
     "execution_count": 45,
     "metadata": {},
     "output_type": "execute_result"
    }
   ],
   "source": [
    "arr1 * arr2"
   ]
  },
  {
   "cell_type": "code",
   "execution_count": 44,
   "id": "84d82b1d-a42d-4659-9e3a-71546798d07a",
   "metadata": {},
   "outputs": [
    {
     "data": {
      "text/plain": [
       "np.int64(1177965)"
      ]
     },
     "execution_count": 44,
     "metadata": {},
     "output_type": "execute_result"
    }
   ],
   "source": [
    "arr1.dot(arr2)"
   ]
  },
  {
   "cell_type": "code",
   "execution_count": 46,
   "id": "312509f4-3bdc-44b8-b872-646b2d5f354a",
   "metadata": {},
   "outputs": [],
   "source": [
    "arr4 = np.array([10,20,30])\n",
    "arr5 = np.array([2,4,6])"
   ]
  },
  {
   "cell_type": "code",
   "execution_count": 47,
   "id": "0a008354-6124-4c6e-96a8-247a44f12bfa",
   "metadata": {},
   "outputs": [
    {
     "data": {
      "text/plain": [
       "array([ 20,  80, 180])"
      ]
     },
     "execution_count": 47,
     "metadata": {},
     "output_type": "execute_result"
    }
   ],
   "source": [
    "arr4 * arr5"
   ]
  },
  {
   "cell_type": "markdown",
   "id": "549b0006-8188-4ef0-9653-4054bca9b28b",
   "metadata": {},
   "source": [
    "### dot method performs product of individual elements and summation of resulted products"
   ]
  },
  {
   "cell_type": "code",
   "execution_count": 48,
   "id": "76e850fe-1857-4cb8-a7e0-d37e3402eaaa",
   "metadata": {},
   "outputs": [
    {
     "data": {
      "text/plain": [
       "np.int64(280)"
      ]
     },
     "execution_count": 48,
     "metadata": {},
     "output_type": "execute_result"
    }
   ],
   "source": [
    "arr4.dot(arr5) "
   ]
  },
  {
   "cell_type": "code",
   "execution_count": 49,
   "id": "ab0fca87-3d84-4e19-b3c4-43caa6ae157e",
   "metadata": {},
   "outputs": [
    {
     "data": {
      "text/plain": [
       "np.int64(185000)"
      ]
     },
     "execution_count": 49,
     "metadata": {},
     "output_type": "execute_result"
    }
   ],
   "source": [
    "numner_of_quantites = np.array([10,5,30])\n",
    "price = np.array([5000,3000,4000])\n",
    "#total_sales =  5000*10 + 3000*5 + 4000*30 = 50000 + 15000 + 120000 = 65000 + 120000 = 185000\n",
    "numner_of_quantites.dot(price)"
   ]
  },
  {
   "cell_type": "markdown",
   "id": "cb57b1b3-75a6-4555-a7b7-d372833591cd",
   "metadata": {},
   "source": [
    "## Matrix"
   ]
  },
  {
   "cell_type": "code",
   "execution_count": 51,
   "id": "2c64bab5-1cba-4143-b470-ecb2444dc9dc",
   "metadata": {},
   "outputs": [
    {
     "data": {
      "text/plain": [
       "array([[2, 3, 4],\n",
       "       [3, 4, 5]])"
      ]
     },
     "execution_count": 51,
     "metadata": {},
     "output_type": "execute_result"
    }
   ],
   "source": [
    "m1 = np.array([[2,3,4],[3,4,5]])\n",
    "m1"
   ]
  },
  {
   "cell_type": "code",
   "execution_count": 52,
   "id": "2ad188df-a3ad-42d7-af80-71da2f4836e3",
   "metadata": {},
   "outputs": [
    {
     "data": {
      "text/plain": [
       "array([[1, 2],\n",
       "       [2, 3]])"
      ]
     },
     "execution_count": 52,
     "metadata": {},
     "output_type": "execute_result"
    }
   ],
   "source": [
    "m2 = np.array([[1,2],[2,3]])\n",
    "m2"
   ]
  },
  {
   "cell_type": "code",
   "execution_count": 56,
   "id": "0c1cf74a-2fcd-4e2c-95ff-8db7d3a8596d",
   "metadata": {},
   "outputs": [
    {
     "data": {
      "text/plain": [
       "array([[ 1,  2],\n",
       "       [ 3,  4],\n",
       "       [ 4,  5],\n",
       "       [ 6,  7],\n",
       "       [ 7,  8],\n",
       "       [ 9, 10],\n",
       "       [11, 12]])"
      ]
     },
     "execution_count": 56,
     "metadata": {},
     "output_type": "execute_result"
    }
   ],
   "source": [
    "m3 = np.array([[1,2],[3,4],[4,5],[6,7],[7,8],[9,10],[11,12]])\n",
    "m3"
   ]
  },
  {
   "cell_type": "code",
   "execution_count": 57,
   "id": "6f561b1e-ca40-4787-a1cb-f70f5b264ae0",
   "metadata": {},
   "outputs": [
    {
     "data": {
      "text/plain": [
       "array([[2, 3, 4],\n",
       "       [3, 4, 5]])"
      ]
     },
     "execution_count": 57,
     "metadata": {},
     "output_type": "execute_result"
    }
   ],
   "source": [
    "m1"
   ]
  },
  {
   "cell_type": "code",
   "execution_count": 58,
   "id": "dba7c400-f9af-4cda-901e-fc74e0e725e8",
   "metadata": {},
   "outputs": [
    {
     "data": {
      "text/plain": [
       "array([[1, 2],\n",
       "       [2, 3]])"
      ]
     },
     "execution_count": 58,
     "metadata": {},
     "output_type": "execute_result"
    }
   ],
   "source": [
    "m2"
   ]
  },
  {
   "cell_type": "code",
   "execution_count": 59,
   "id": "78bc1032-10ad-4c11-bda1-635a4dde87d9",
   "metadata": {},
   "outputs": [
    {
     "ename": "ValueError",
     "evalue": "operands could not be broadcast together with shapes (2,3) (2,2) ",
     "output_type": "error",
     "traceback": [
      "\u001b[1;31m---------------------------------------------------------------------------\u001b[0m",
      "\u001b[1;31mValueError\u001b[0m                                Traceback (most recent call last)",
      "Cell \u001b[1;32mIn[59], line 1\u001b[0m\n\u001b[1;32m----> 1\u001b[0m m1 \u001b[38;5;241m+\u001b[39m m2\n",
      "\u001b[1;31mValueError\u001b[0m: operands could not be broadcast together with shapes (2,3) (2,2) "
     ]
    }
   ],
   "source": [
    "m1 + m2"
   ]
  },
  {
   "cell_type": "code",
   "execution_count": 61,
   "id": "39bfd6bc-fe65-4c34-b5b7-38c8fbf7fe09",
   "metadata": {},
   "outputs": [
    {
     "data": {
      "text/plain": [
       "array([[ 5,  6,  7],\n",
       "       [ 8,  9, 10]])"
      ]
     },
     "execution_count": 61,
     "metadata": {},
     "output_type": "execute_result"
    }
   ],
   "source": [
    "m4 = np.array([[5,6,7],[8,9,10]])\n",
    "m4"
   ]
  },
  {
   "attachments": {
    "77490a94-392e-4677-b82f-df3220922433.png": {
     "image/png": "[encoded data removed]"
    }
   },
   "cell_type": "markdown",
   "id": "fb9d8d96-bcc4-4d2d-9881-4c06bded07d4",
   "metadata": {},
   "source": [
    "![image.png](attachment:77490a94-392e-4677-b82f-df3220922433.png)"
   ]
  },
  {
   "cell_type": "code",
   "execution_count": 63,
   "id": "eab8d6f3-8ae5-42d3-8f49-7c640630658b",
   "metadata": {},
   "outputs": [
    {
     "data": {
      "text/plain": [
       "array([[2, 3, 4],\n",
       "       [3, 4, 5]])"
      ]
     },
     "execution_count": 63,
     "metadata": {},
     "output_type": "execute_result"
    }
   ],
   "source": [
    "m1"
   ]
  },
  {
   "cell_type": "code",
   "execution_count": 64,
   "id": "87841180-89cc-423a-a504-35725ff41223",
   "metadata": {},
   "outputs": [
    {
     "data": {
      "text/plain": [
       "(2, 3)"
      ]
     },
     "execution_count": 64,
     "metadata": {},
     "output_type": "execute_result"
    }
   ],
   "source": [
    "m1.shape"
   ]
  },
  {
   "cell_type": "code",
   "execution_count": 65,
   "id": "78d5ec4d-f100-41f7-8618-89730dde6ee2",
   "metadata": {},
   "outputs": [
    {
     "data": {
      "text/plain": [
       "(2, 3)"
      ]
     },
     "execution_count": 65,
     "metadata": {},
     "output_type": "execute_result"
    }
   ],
   "source": [
    "m4.shape"
   ]
  },
  {
   "cell_type": "code",
   "execution_count": 66,
   "id": "03e68feb-28b7-42e1-b80a-b92c72fe01ec",
   "metadata": {},
   "outputs": [
    {
     "data": {
      "text/plain": [
       "array([[ 7,  9, 11],\n",
       "       [11, 13, 15]])"
      ]
     },
     "execution_count": 66,
     "metadata": {},
     "output_type": "execute_result"
    }
   ],
   "source": [
    "# Addition\n",
    "m1 + m4"
   ]
  },
  {
   "cell_type": "code",
   "execution_count": 67,
   "id": "22c42153-a754-4728-8eda-df3c4de6668f",
   "metadata": {},
   "outputs": [
    {
     "data": {
      "text/plain": [
       "array([[-3, -3, -3],\n",
       "       [-5, -5, -5]])"
      ]
     },
     "execution_count": 67,
     "metadata": {},
     "output_type": "execute_result"
    }
   ],
   "source": [
    "# Subtraction\n",
    "m1-m4"
   ]
  },
  {
   "cell_type": "code",
   "execution_count": 68,
   "id": "e24438ea-94db-4485-ad2d-d1c588a6f0aa",
   "metadata": {},
   "outputs": [
    {
     "data": {
      "text/plain": [
       "array([[200, 300, 400],\n",
       "       [300, 400, 500]])"
      ]
     },
     "execution_count": 68,
     "metadata": {},
     "output_type": "execute_result"
    }
   ],
   "source": [
    "# Scalar multiplication\n",
    "m1 * 100"
   ]
  },
  {
   "cell_type": "code",
   "execution_count": 69,
   "id": "f17b3047-f9e9-4795-8632-102bd8ec7307",
   "metadata": {},
   "outputs": [
    {
     "data": {
      "text/plain": [
       "array([[10, 18, 28],\n",
       "       [24, 36, 50]])"
      ]
     },
     "execution_count": 69,
     "metadata": {},
     "output_type": "execute_result"
    }
   ],
   "source": [
    "# Products\n",
    "m1 * m4"
   ]
  },
  {
   "cell_type": "code",
   "execution_count": 70,
   "id": "82fb636a-1435-48b5-8537-0e77f6158774",
   "metadata": {},
   "outputs": [
    {
     "ename": "ValueError",
     "evalue": "shapes (2,3) and (2,3) not aligned: 3 (dim 1) != 2 (dim 0)",
     "output_type": "error",
     "traceback": [
      "\u001b[1;31m---------------------------------------------------------------------------\u001b[0m",
      "\u001b[1;31mValueError\u001b[0m                                Traceback (most recent call last)",
      "Cell \u001b[1;32mIn[70], line 1\u001b[0m\n\u001b[1;32m----> 1\u001b[0m m1\u001b[38;5;241m.\u001b[39mdot(m4)\n",
      "\u001b[1;31mValueError\u001b[0m: shapes (2,3) and (2,3) not aligned: 3 (dim 1) != 2 (dim 0)"
     ]
    }
   ],
   "source": []
  },
  {
   "cell_type": "markdown",
   "id": "5bac9bf4-d459-4f7e-87d5-c56e9c5a87ba",
   "metadata": {},
   "source": [
    "## Pandas \n",
    "    import os\n",
    "    os.chdir(provide path in a raw string)\n",
    "    \n",
    "    import pandas as pd\n",
    "    pd.read_csv(file_name)\n",
    "    \n",
    "    \n",
    "### Series: is a 1D representation of Data\n",
    "#### Dataframe: is a 2D representation of Data"
   ]
  },
  {
   "cell_type": "code",
   "execution_count": 71,
   "id": "82fc2992-5ad1-4a19-93a1-bed79f8f7b07",
   "metadata": {},
   "outputs": [],
   "source": [
    "import os\n",
    "os.chdir(r\"E:\\Sindhura\\DataSets\")"
   ]
  },
  {
   "cell_type": "code",
   "execution_count": 72,
   "id": "516da529-a866-4a48-9f7d-b5df9b714cc3",
   "metadata": {},
   "outputs": [],
   "source": [
    "import pandas as pd"
   ]
  },
  {
   "cell_type": "code",
   "execution_count": 73,
   "id": "b3fb85dd-92ec-4fcb-907a-72973332f0b3",
   "metadata": {},
   "outputs": [
    {
     "data": {
      "text/html": [
       "<div>\n",
       "<style scoped>\n",
       "    .dataframe tbody tr th:only-of-type {\n",
       "        vertical-align: middle;\n",
       "    }\n",
       "\n",
       "    .dataframe tbody tr th {\n",
       "        vertical-align: top;\n",
       "    }\n",
       "\n",
       "    .dataframe thead th {\n",
       "        text-align: right;\n",
       "    }\n",
       "</style>\n",
       "<table border=\"1\" class=\"dataframe\">\n",
       "  <thead>\n",
       "    <tr style=\"text-align: right;\">\n",
       "      <th></th>\n",
       "      <th>RND</th>\n",
       "      <th>ADMIN</th>\n",
       "      <th>MKT</th>\n",
       "      <th>STATE</th>\n",
       "      <th>PROFIT</th>\n",
       "    </tr>\n",
       "  </thead>\n",
       "  <tbody>\n",
       "    <tr>\n",
       "      <th>0</th>\n",
       "      <td>165349.20</td>\n",
       "      <td>136897.80</td>\n",
       "      <td>471784.10</td>\n",
       "      <td>New York</td>\n",
       "      <td>192261.83</td>\n",
       "    </tr>\n",
       "    <tr>\n",
       "      <th>1</th>\n",
       "      <td>162597.70</td>\n",
       "      <td>151377.59</td>\n",
       "      <td>443898.53</td>\n",
       "      <td>California</td>\n",
       "      <td>191792.06</td>\n",
       "    </tr>\n",
       "    <tr>\n",
       "      <th>2</th>\n",
       "      <td>153441.51</td>\n",
       "      <td>101145.55</td>\n",
       "      <td>407934.54</td>\n",
       "      <td>Florida</td>\n",
       "      <td>191050.39</td>\n",
       "    </tr>\n",
       "    <tr>\n",
       "      <th>3</th>\n",
       "      <td>144372.41</td>\n",
       "      <td>118671.85</td>\n",
       "      <td>383199.62</td>\n",
       "      <td>New York</td>\n",
       "      <td>182901.99</td>\n",
       "    </tr>\n",
       "    <tr>\n",
       "      <th>4</th>\n",
       "      <td>142107.34</td>\n",
       "      <td>91391.77</td>\n",
       "      <td>366168.42</td>\n",
       "      <td>Florida</td>\n",
       "      <td>166187.94</td>\n",
       "    </tr>\n",
       "    <tr>\n",
       "      <th>5</th>\n",
       "      <td>131876.90</td>\n",
       "      <td>99814.71</td>\n",
       "      <td>362861.36</td>\n",
       "      <td>New York</td>\n",
       "      <td>156991.12</td>\n",
       "    </tr>\n",
       "    <tr>\n",
       "      <th>6</th>\n",
       "      <td>134615.46</td>\n",
       "      <td>147198.87</td>\n",
       "      <td>127716.82</td>\n",
       "      <td>California</td>\n",
       "      <td>156122.51</td>\n",
       "    </tr>\n",
       "    <tr>\n",
       "      <th>7</th>\n",
       "      <td>130298.13</td>\n",
       "      <td>145530.06</td>\n",
       "      <td>323876.68</td>\n",
       "      <td>Florida</td>\n",
       "      <td>155752.60</td>\n",
       "    </tr>\n",
       "    <tr>\n",
       "      <th>8</th>\n",
       "      <td>120542.52</td>\n",
       "      <td>148718.95</td>\n",
       "      <td>311613.29</td>\n",
       "      <td>New York</td>\n",
       "      <td>152211.77</td>\n",
       "    </tr>\n",
       "    <tr>\n",
       "      <th>9</th>\n",
       "      <td>123334.88</td>\n",
       "      <td>108679.17</td>\n",
       "      <td>304981.62</td>\n",
       "      <td>California</td>\n",
       "      <td>149759.96</td>\n",
       "    </tr>\n",
       "    <tr>\n",
       "      <th>10</th>\n",
       "      <td>101913.08</td>\n",
       "      <td>110594.11</td>\n",
       "      <td>229160.95</td>\n",
       "      <td>Florida</td>\n",
       "      <td>146121.95</td>\n",
       "    </tr>\n",
       "    <tr>\n",
       "      <th>11</th>\n",
       "      <td>100671.96</td>\n",
       "      <td>91790.61</td>\n",
       "      <td>249744.55</td>\n",
       "      <td>California</td>\n",
       "      <td>144259.40</td>\n",
       "    </tr>\n",
       "    <tr>\n",
       "      <th>12</th>\n",
       "      <td>93863.75</td>\n",
       "      <td>127320.38</td>\n",
       "      <td>249839.44</td>\n",
       "      <td>Florida</td>\n",
       "      <td>141585.52</td>\n",
       "    </tr>\n",
       "    <tr>\n",
       "      <th>13</th>\n",
       "      <td>91992.39</td>\n",
       "      <td>135495.07</td>\n",
       "      <td>252664.93</td>\n",
       "      <td>California</td>\n",
       "      <td>134307.35</td>\n",
       "    </tr>\n",
       "    <tr>\n",
       "      <th>14</th>\n",
       "      <td>119943.24</td>\n",
       "      <td>156547.42</td>\n",
       "      <td>256512.92</td>\n",
       "      <td>Florida</td>\n",
       "      <td>132602.65</td>\n",
       "    </tr>\n",
       "    <tr>\n",
       "      <th>15</th>\n",
       "      <td>114523.61</td>\n",
       "      <td>122616.84</td>\n",
       "      <td>261776.23</td>\n",
       "      <td>New York</td>\n",
       "      <td>129917.04</td>\n",
       "    </tr>\n",
       "    <tr>\n",
       "      <th>16</th>\n",
       "      <td>78013.11</td>\n",
       "      <td>121597.55</td>\n",
       "      <td>264346.06</td>\n",
       "      <td>California</td>\n",
       "      <td>126992.93</td>\n",
       "    </tr>\n",
       "    <tr>\n",
       "      <th>17</th>\n",
       "      <td>94657.16</td>\n",
       "      <td>145077.58</td>\n",
       "      <td>282574.31</td>\n",
       "      <td>New York</td>\n",
       "      <td>125370.37</td>\n",
       "    </tr>\n",
       "    <tr>\n",
       "      <th>18</th>\n",
       "      <td>91749.16</td>\n",
       "      <td>114175.79</td>\n",
       "      <td>294919.57</td>\n",
       "      <td>Florida</td>\n",
       "      <td>124266.90</td>\n",
       "    </tr>\n",
       "    <tr>\n",
       "      <th>19</th>\n",
       "      <td>86419.70</td>\n",
       "      <td>153514.11</td>\n",
       "      <td>0.00</td>\n",
       "      <td>New York</td>\n",
       "      <td>122776.86</td>\n",
       "    </tr>\n",
       "    <tr>\n",
       "      <th>20</th>\n",
       "      <td>76253.86</td>\n",
       "      <td>113867.30</td>\n",
       "      <td>298664.47</td>\n",
       "      <td>California</td>\n",
       "      <td>118474.03</td>\n",
       "    </tr>\n",
       "    <tr>\n",
       "      <th>21</th>\n",
       "      <td>78389.47</td>\n",
       "      <td>153773.43</td>\n",
       "      <td>299737.29</td>\n",
       "      <td>New York</td>\n",
       "      <td>111313.02</td>\n",
       "    </tr>\n",
       "    <tr>\n",
       "      <th>22</th>\n",
       "      <td>73994.56</td>\n",
       "      <td>122782.75</td>\n",
       "      <td>303319.26</td>\n",
       "      <td>Florida</td>\n",
       "      <td>110352.25</td>\n",
       "    </tr>\n",
       "    <tr>\n",
       "      <th>23</th>\n",
       "      <td>67532.53</td>\n",
       "      <td>105751.03</td>\n",
       "      <td>304768.73</td>\n",
       "      <td>Florida</td>\n",
       "      <td>108733.99</td>\n",
       "    </tr>\n",
       "    <tr>\n",
       "      <th>24</th>\n",
       "      <td>77044.01</td>\n",
       "      <td>99281.34</td>\n",
       "      <td>140574.81</td>\n",
       "      <td>New York</td>\n",
       "      <td>108552.04</td>\n",
       "    </tr>\n",
       "    <tr>\n",
       "      <th>25</th>\n",
       "      <td>64664.71</td>\n",
       "      <td>139553.16</td>\n",
       "      <td>137962.62</td>\n",
       "      <td>California</td>\n",
       "      <td>107404.34</td>\n",
       "    </tr>\n",
       "    <tr>\n",
       "      <th>26</th>\n",
       "      <td>75328.87</td>\n",
       "      <td>144135.98</td>\n",
       "      <td>134050.07</td>\n",
       "      <td>Florida</td>\n",
       "      <td>105733.54</td>\n",
       "    </tr>\n",
       "    <tr>\n",
       "      <th>27</th>\n",
       "      <td>72107.60</td>\n",
       "      <td>127864.55</td>\n",
       "      <td>353183.81</td>\n",
       "      <td>New York</td>\n",
       "      <td>105008.31</td>\n",
       "    </tr>\n",
       "    <tr>\n",
       "      <th>28</th>\n",
       "      <td>66051.52</td>\n",
       "      <td>182645.56</td>\n",
       "      <td>118148.20</td>\n",
       "      <td>Florida</td>\n",
       "      <td>103282.38</td>\n",
       "    </tr>\n",
       "    <tr>\n",
       "      <th>29</th>\n",
       "      <td>65605.48</td>\n",
       "      <td>153032.06</td>\n",
       "      <td>107138.38</td>\n",
       "      <td>New York</td>\n",
       "      <td>101004.64</td>\n",
       "    </tr>\n",
       "    <tr>\n",
       "      <th>30</th>\n",
       "      <td>61994.48</td>\n",
       "      <td>115641.28</td>\n",
       "      <td>91131.24</td>\n",
       "      <td>Florida</td>\n",
       "      <td>99937.59</td>\n",
       "    </tr>\n",
       "    <tr>\n",
       "      <th>31</th>\n",
       "      <td>61136.38</td>\n",
       "      <td>152701.92</td>\n",
       "      <td>88218.23</td>\n",
       "      <td>New York</td>\n",
       "      <td>97483.56</td>\n",
       "    </tr>\n",
       "    <tr>\n",
       "      <th>32</th>\n",
       "      <td>63408.86</td>\n",
       "      <td>129219.61</td>\n",
       "      <td>46085.25</td>\n",
       "      <td>California</td>\n",
       "      <td>97427.84</td>\n",
       "    </tr>\n",
       "    <tr>\n",
       "      <th>33</th>\n",
       "      <td>55493.95</td>\n",
       "      <td>103057.49</td>\n",
       "      <td>214634.81</td>\n",
       "      <td>Florida</td>\n",
       "      <td>96778.92</td>\n",
       "    </tr>\n",
       "    <tr>\n",
       "      <th>34</th>\n",
       "      <td>46426.07</td>\n",
       "      <td>157693.92</td>\n",
       "      <td>210797.67</td>\n",
       "      <td>California</td>\n",
       "      <td>96712.80</td>\n",
       "    </tr>\n",
       "    <tr>\n",
       "      <th>35</th>\n",
       "      <td>46014.02</td>\n",
       "      <td>85047.44</td>\n",
       "      <td>205517.64</td>\n",
       "      <td>New York</td>\n",
       "      <td>96479.51</td>\n",
       "    </tr>\n",
       "    <tr>\n",
       "      <th>36</th>\n",
       "      <td>28663.76</td>\n",
       "      <td>127056.21</td>\n",
       "      <td>201126.82</td>\n",
       "      <td>Florida</td>\n",
       "      <td>90708.19</td>\n",
       "    </tr>\n",
       "    <tr>\n",
       "      <th>37</th>\n",
       "      <td>44069.95</td>\n",
       "      <td>51283.14</td>\n",
       "      <td>197029.42</td>\n",
       "      <td>California</td>\n",
       "      <td>89949.14</td>\n",
       "    </tr>\n",
       "    <tr>\n",
       "      <th>38</th>\n",
       "      <td>20229.59</td>\n",
       "      <td>65947.93</td>\n",
       "      <td>185265.10</td>\n",
       "      <td>New York</td>\n",
       "      <td>81229.06</td>\n",
       "    </tr>\n",
       "    <tr>\n",
       "      <th>39</th>\n",
       "      <td>38558.51</td>\n",
       "      <td>82982.09</td>\n",
       "      <td>174999.30</td>\n",
       "      <td>California</td>\n",
       "      <td>81005.76</td>\n",
       "    </tr>\n",
       "    <tr>\n",
       "      <th>40</th>\n",
       "      <td>28754.33</td>\n",
       "      <td>118546.05</td>\n",
       "      <td>172795.67</td>\n",
       "      <td>California</td>\n",
       "      <td>78239.91</td>\n",
       "    </tr>\n",
       "    <tr>\n",
       "      <th>41</th>\n",
       "      <td>27892.92</td>\n",
       "      <td>84710.77</td>\n",
       "      <td>164470.71</td>\n",
       "      <td>Florida</td>\n",
       "      <td>77798.83</td>\n",
       "    </tr>\n",
       "    <tr>\n",
       "      <th>42</th>\n",
       "      <td>23640.93</td>\n",
       "      <td>96189.63</td>\n",
       "      <td>148001.11</td>\n",
       "      <td>California</td>\n",
       "      <td>71498.49</td>\n",
       "    </tr>\n",
       "    <tr>\n",
       "      <th>43</th>\n",
       "      <td>15505.73</td>\n",
       "      <td>127382.30</td>\n",
       "      <td>35534.17</td>\n",
       "      <td>New York</td>\n",
       "      <td>69758.98</td>\n",
       "    </tr>\n",
       "    <tr>\n",
       "      <th>44</th>\n",
       "      <td>22177.74</td>\n",
       "      <td>154806.14</td>\n",
       "      <td>28334.72</td>\n",
       "      <td>California</td>\n",
       "      <td>65200.33</td>\n",
       "    </tr>\n",
       "    <tr>\n",
       "      <th>45</th>\n",
       "      <td>1000.23</td>\n",
       "      <td>124153.04</td>\n",
       "      <td>1903.93</td>\n",
       "      <td>New York</td>\n",
       "      <td>64926.08</td>\n",
       "    </tr>\n",
       "    <tr>\n",
       "      <th>46</th>\n",
       "      <td>1315.46</td>\n",
       "      <td>115816.21</td>\n",
       "      <td>297114.46</td>\n",
       "      <td>Florida</td>\n",
       "      <td>49490.75</td>\n",
       "    </tr>\n",
       "    <tr>\n",
       "      <th>47</th>\n",
       "      <td>0.00</td>\n",
       "      <td>135426.92</td>\n",
       "      <td>0.00</td>\n",
       "      <td>California</td>\n",
       "      <td>42559.73</td>\n",
       "    </tr>\n",
       "    <tr>\n",
       "      <th>48</th>\n",
       "      <td>542.05</td>\n",
       "      <td>51743.15</td>\n",
       "      <td>0.00</td>\n",
       "      <td>New York</td>\n",
       "      <td>35673.41</td>\n",
       "    </tr>\n",
       "    <tr>\n",
       "      <th>49</th>\n",
       "      <td>0.00</td>\n",
       "      <td>116983.80</td>\n",
       "      <td>45173.06</td>\n",
       "      <td>California</td>\n",
       "      <td>14681.40</td>\n",
       "    </tr>\n",
       "  </tbody>\n",
       "</table>\n",
       "</div>"
      ],
      "text/plain": [
       "          RND      ADMIN        MKT       STATE     PROFIT\n",
       "0   165349.20  136897.80  471784.10    New York  192261.83\n",
       "1   162597.70  151377.59  443898.53  California  191792.06\n",
       "2   153441.51  101145.55  407934.54     Florida  191050.39\n",
       "3   144372.41  118671.85  383199.62    New York  182901.99\n",
       "4   142107.34   91391.77  366168.42     Florida  166187.94\n",
       "5   131876.90   99814.71  362861.36    New York  156991.12\n",
       "6   134615.46  147198.87  127716.82  California  156122.51\n",
       "7   130298.13  145530.06  323876.68     Florida  155752.60\n",
       "8   120542.52  148718.95  311613.29    New York  152211.77\n",
       "9   123334.88  108679.17  304981.62  California  149759.96\n",
       "10  101913.08  110594.11  229160.95     Florida  146121.95\n",
       "11  100671.96   91790.61  249744.55  California  144259.40\n",
       "12   93863.75  127320.38  249839.44     Florida  141585.52\n",
       "13   91992.39  135495.07  252664.93  California  134307.35\n",
       "14  119943.24  156547.42  256512.92     Florida  132602.65\n",
       "15  114523.61  122616.84  261776.23    New York  129917.04\n",
       "16   78013.11  121597.55  264346.06  California  126992.93\n",
       "17   94657.16  145077.58  282574.31    New York  125370.37\n",
       "18   91749.16  114175.79  294919.57     Florida  124266.90\n",
       "19   86419.70  153514.11       0.00    New York  122776.86\n",
       "20   76253.86  113867.30  298664.47  California  118474.03\n",
       "21   78389.47  153773.43  299737.29    New York  111313.02\n",
       "22   73994.56  122782.75  303319.26     Florida  110352.25\n",
       "23   67532.53  105751.03  304768.73     Florida  108733.99\n",
       "24   77044.01   99281.34  140574.81    New York  108552.04\n",
       "25   64664.71  139553.16  137962.62  California  107404.34\n",
       "26   75328.87  144135.98  134050.07     Florida  105733.54\n",
       "27   72107.60  127864.55  353183.81    New York  105008.31\n",
       "28   66051.52  182645.56  118148.20     Florida  103282.38\n",
       "29   65605.48  153032.06  107138.38    New York  101004.64\n",
       "30   61994.48  115641.28   91131.24     Florida   99937.59\n",
       "31   61136.38  152701.92   88218.23    New York   97483.56\n",
       "32   63408.86  129219.61   46085.25  California   97427.84\n",
       "33   55493.95  103057.49  214634.81     Florida   96778.92\n",
       "34   46426.07  157693.92  210797.67  California   96712.80\n",
       "35   46014.02   85047.44  205517.64    New York   96479.51\n",
       "36   28663.76  127056.21  201126.82     Florida   90708.19\n",
       "37   44069.95   51283.14  197029.42  California   89949.14\n",
       "38   20229.59   65947.93  185265.10    New York   81229.06\n",
       "39   38558.51   82982.09  174999.30  California   81005.76\n",
       "40   28754.33  118546.05  172795.67  California   78239.91\n",
       "41   27892.92   84710.77  164470.71     Florida   77798.83\n",
       "42   23640.93   96189.63  148001.11  California   71498.49\n",
       "43   15505.73  127382.30   35534.17    New York   69758.98\n",
       "44   22177.74  154806.14   28334.72  California   65200.33\n",
       "45    1000.23  124153.04    1903.93    New York   64926.08\n",
       "46    1315.46  115816.21  297114.46     Florida   49490.75\n",
       "47       0.00  135426.92       0.00  California   42559.73\n",
       "48     542.05   51743.15       0.00    New York   35673.41\n",
       "49       0.00  116983.80   45173.06  California   14681.40"
      ]
     },
     "execution_count": 73,
     "metadata": {},
     "output_type": "execute_result"
    }
   ],
   "source": [
    "df = pd.read_csv(\"50_Startups.csv\")\n",
    "#50_Startups.csv\n",
    "df"
   ]
  },
  {
   "cell_type": "code",
   "execution_count": 74,
   "id": "d8acd0f5-7963-4986-aba1-9e6cb35286cf",
   "metadata": {},
   "outputs": [
    {
     "data": {
      "text/plain": [
       "0     136897.80\n",
       "1     151377.59\n",
       "2     101145.55\n",
       "3     118671.85\n",
       "4      91391.77\n",
       "5      99814.71\n",
       "6     147198.87\n",
       "7     145530.06\n",
       "8     148718.95\n",
       "9     108679.17\n",
       "10    110594.11\n",
       "11     91790.61\n",
       "12    127320.38\n",
       "13    135495.07\n",
       "14    156547.42\n",
       "15    122616.84\n",
       "16    121597.55\n",
       "17    145077.58\n",
       "18    114175.79\n",
       "19    153514.11\n",
       "20    113867.30\n",
       "21    153773.43\n",
       "22    122782.75\n",
       "23    105751.03\n",
       "24     99281.34\n",
       "25    139553.16\n",
       "26    144135.98\n",
       "27    127864.55\n",
       "28    182645.56\n",
       "29    153032.06\n",
       "30    115641.28\n",
       "31    152701.92\n",
       "32    129219.61\n",
       "33    103057.49\n",
       "34    157693.92\n",
       "35     85047.44\n",
       "36    127056.21\n",
       "37     51283.14\n",
       "38     65947.93\n",
       "39     82982.09\n",
       "40    118546.05\n",
       "41     84710.77\n",
       "42     96189.63\n",
       "43    127382.30\n",
       "44    154806.14\n",
       "45    124153.04\n",
       "46    115816.21\n",
       "47    135426.92\n",
       "48     51743.15\n",
       "49    116983.80\n",
       "Name: ADMIN, dtype: float64"
      ]
     },
     "execution_count": 74,
     "metadata": {},
     "output_type": "execute_result"
    }
   ],
   "source": [
    "df['ADMIN']"
   ]
  },
  {
   "cell_type": "code",
   "execution_count": 76,
   "id": "ebf7a9d0-690b-433d-92c9-42507534c808",
   "metadata": {},
   "outputs": [
    {
     "data": {
      "text/plain": [
       "0    3\n",
       "1    4\n",
       "2    5\n",
       "dtype: int64"
      ]
     },
     "execution_count": 76,
     "metadata": {},
     "output_type": "execute_result"
    }
   ],
   "source": [
    "se1 = pd.Series([3,4,5])\n",
    "se1"
   ]
  },
  {
   "cell_type": "code",
   "execution_count": 77,
   "id": "74d032cf-245b-4bcd-a5af-506b9ccdce58",
   "metadata": {},
   "outputs": [],
   "source": [
    "dct = {\n",
    "    \"ID\":[34,56,78,89],\n",
    "    \"NAME\":[\"Raman\",\"Suman\",\"Thaman\",\"Baman\"]\n",
    "}"
   ]
  },
  {
   "cell_type": "code",
   "execution_count": 78,
   "id": "42fd6169-099d-449c-ae25-16dc092f15f3",
   "metadata": {},
   "outputs": [
    {
     "data": {
      "text/plain": [
       "dict_items([('ID', [34, 56, 78, 89]), ('NAME', ['Raman', 'Suman', 'Thaman', 'Baman'])])"
      ]
     },
     "execution_count": 78,
     "metadata": {},
     "output_type": "execute_result"
    }
   ],
   "source": [
    "dct.items()"
   ]
  },
  {
   "cell_type": "code",
   "execution_count": 79,
   "id": "7fce6bc1-3827-4355-8dac-e7315030dd19",
   "metadata": {},
   "outputs": [
    {
     "data": {
      "text/html": [
       "<div>\n",
       "<style scoped>\n",
       "    .dataframe tbody tr th:only-of-type {\n",
       "        vertical-align: middle;\n",
       "    }\n",
       "\n",
       "    .dataframe tbody tr th {\n",
       "        vertical-align: top;\n",
       "    }\n",
       "\n",
       "    .dataframe thead th {\n",
       "        text-align: right;\n",
       "    }\n",
       "</style>\n",
       "<table border=\"1\" class=\"dataframe\">\n",
       "  <thead>\n",
       "    <tr style=\"text-align: right;\">\n",
       "      <th></th>\n",
       "      <th>ID</th>\n",
       "      <th>NAME</th>\n",
       "    </tr>\n",
       "  </thead>\n",
       "  <tbody>\n",
       "    <tr>\n",
       "      <th>0</th>\n",
       "      <td>34</td>\n",
       "      <td>Raman</td>\n",
       "    </tr>\n",
       "    <tr>\n",
       "      <th>1</th>\n",
       "      <td>56</td>\n",
       "      <td>Suman</td>\n",
       "    </tr>\n",
       "    <tr>\n",
       "      <th>2</th>\n",
       "      <td>78</td>\n",
       "      <td>Thaman</td>\n",
       "    </tr>\n",
       "    <tr>\n",
       "      <th>3</th>\n",
       "      <td>89</td>\n",
       "      <td>Baman</td>\n",
       "    </tr>\n",
       "  </tbody>\n",
       "</table>\n",
       "</div>"
      ],
      "text/plain": [
       "   ID    NAME\n",
       "0  34   Raman\n",
       "1  56   Suman\n",
       "2  78  Thaman\n",
       "3  89   Baman"
      ]
     },
     "execution_count": 79,
     "metadata": {},
     "output_type": "execute_result"
    }
   ],
   "source": [
    "d1 = pd.DataFrame(dct)\n",
    "d1"
   ]
  },
  {
   "cell_type": "code",
   "execution_count": null,
   "id": "b90e29d0-32c8-4908-9d69-29c724bd32bf",
   "metadata": {},
   "outputs": [],
   "source": []
  }
 ],
 "metadata": {
  "kernelspec": {
   "display_name": "Python 3 (ipykernel)",
   "language": "python",
   "name": "python3"
  },
  "language_info": {
   "codemirror_mode": {
    "name": "ipython",
    "version": 3
   },
   "file_extension": ".py",
   "mimetype": "text/x-python",
   "name": "python",
   "nbconvert_exporter": "python",
   "pygments_lexer": "ipython3",
   "version": "3.13.5"
  }
 },
 "nbformat": 4,
 "nbformat_minor": 5
}
