{
 "cells": [
  {
   "cell_type": "code",
   "execution_count": 1,
   "id": "5557f87c-dea2-404a-b342-1a229369be3a",
   "metadata": {},
   "outputs": [],
   "source": [
    "names = [\"Raman\",\"Thaman\",\"Suman\"]"
   ]
  },
  {
   "cell_type": "code",
   "execution_count": 2,
   "id": "2251068a-d881-44cb-9080-6b0c0224a815",
   "metadata": {},
   "outputs": [],
   "source": [
    "name = ['RamanGK','ThamanPK','SumanSK']"
   ]
  },
  {
   "cell_type": "code",
   "execution_count": 3,
   "id": "6c6db33c-5aee-4ade-b5a7-0ff463844ebe",
   "metadata": {},
   "outputs": [
    {
     "name": "stdout",
     "output_type": "stream",
     "text": [
      "['RamanGK', 'ThamanPK', 'SumanSK']\n"
     ]
    }
   ],
   "source": [
    "print(name)"
   ]
  },
  {
   "cell_type": "code",
   "execution_count": 4,
   "id": "3848898b-8b63-4ac4-91c8-4bc30926cece",
   "metadata": {},
   "outputs": [
    {
     "data": {
      "text/plain": [
       "['RamanGK', 'ThamanPK', 'SumanSK']"
      ]
     },
     "execution_count": 4,
     "metadata": {},
     "output_type": "execute_result"
    }
   ],
   "source": [
    "# defining names of students\n",
    "name"
   ]
  },
  {
   "cell_type": "code",
   "execution_count": 5,
   "id": "bc1e945f-cbf1-4b2b-9012-792aced2e905",
   "metadata": {},
   "outputs": [
    {
     "data": {
      "text/plain": [
       "['Raman', 'Thaman', 'Suman']"
      ]
     },
     "execution_count": 5,
     "metadata": {},
     "output_type": "execute_result"
    }
   ],
   "source": [
    "name\n",
    "names"
   ]
  },
  {
   "cell_type": "code",
   "execution_count": 6,
   "id": "66371073-d0c9-4374-9536-2fbc46a4a8b3",
   "metadata": {},
   "outputs": [
    {
     "name": "stdout",
     "output_type": "stream",
     "text": [
      "['RamanGK', 'ThamanPK', 'SumanSK']\n",
      "['Raman', 'Thaman', 'Suman']\n"
     ]
    }
   ],
   "source": [
    "print(name)\n",
    "print(names)"
   ]
  },
  {
   "cell_type": "code",
   "execution_count": 7,
   "id": "4fa0a5eb-163a-4503-8be5-e091d54775d3",
   "metadata": {},
   "outputs": [],
   "source": [
    "a = 10\n",
    "b=20"
   ]
  },
  {
   "cell_type": "code",
   "execution_count": 8,
   "id": "10bf8bee-91e0-4d8b-8447-a9df96c80854",
   "metadata": {},
   "outputs": [
    {
     "name": "stdout",
     "output_type": "stream",
     "text": [
      "yes\n"
     ]
    }
   ],
   "source": [
    "if a<b:\n",
    "    print(\"yes\")\n",
    "else:\n",
    "    print(\"no\")"
   ]
  },
  {
   "cell_type": "code",
   "execution_count": null,
   "id": "82dac369-dc37-4ac9-a6c6-8d6a535bfaa6",
   "metadata": {},
   "outputs": [],
   "source": []
  },
  {
   "cell_type": "markdown",
   "id": "56b2b4b7-32e4-48a0-a7f7-35a6d73b7c35",
   "metadata": {},
   "source": [
    "## Keyboard shortcuts\n",
    "#### To run a cell: \n",
    "shift + enter\n",
    "#### to add a new cell: \n",
    "use esc+b\n",
    "select the cell and press on b \n",
    "#### to remove a cell: \n",
    "use esc + DD\n",
    "select the cell and press on DD(twice)\n",
    "#### to convert coding cell to markdown cell: \n",
    "use esc + m\n",
    "select the cell and press on m"
   ]
  },
  {
   "cell_type": "code",
   "execution_count": 9,
   "id": "4533019e-d0dd-494f-ba26-dd1ea4f443b6",
   "metadata": {},
   "outputs": [
    {
     "name": "stdout",
     "output_type": "stream",
     "text": [
      "['RamanGK', 'ThamanPK', 'SumanSK']\n"
     ]
    }
   ],
   "source": [
    "print(name)"
   ]
  },
  {
   "cell_type": "code",
   "execution_count": 10,
   "id": "87cbc802-5cd9-46a5-bc43-7f4bf1d917fc",
   "metadata": {},
   "outputs": [
    {
     "name": "stdout",
     "output_type": "stream",
     "text": [
      "['Raman', 'Thaman', 'Suman']\n"
     ]
    }
   ],
   "source": [
    "print(names)"
   ]
  },
  {
   "cell_type": "code",
   "execution_count": 11,
   "id": "ad28c9b2-82bf-40a3-a3a6-c92ae70faa69",
   "metadata": {},
   "outputs": [
    {
     "name": "stdout",
     "output_type": "stream",
     "text": [
      "['RamanGK', 'ThamanGK', 'SumanGK']\n"
     ]
    }
   ],
   "source": [
    "updated_names = []\n",
    "for i in names:\n",
    "    updated_names.append(i+\"GK\")\n",
    "print(updated_names)"
   ]
  },
  {
   "cell_type": "code",
   "execution_count": 12,
   "id": "1dfeb4aa-75ef-4166-a9b2-dc2d4f0dd6bf",
   "metadata": {},
   "outputs": [],
   "source": [
    "emp_data = {\"ids\":(101,102,103,104),\n",
    "           \"names\":(\"Raman\",\"Thaman\",\"Suman\",\"Baman\"),\n",
    "           \"salary\":(45000,40000,35000,56000)}"
   ]
  },
  {
   "cell_type": "code",
   "execution_count": 13,
   "id": "b5c59b66-2e23-4ccd-8891-45a98a438fdd",
   "metadata": {},
   "outputs": [
    {
     "data": {
      "text/plain": [
       "{'ids': (101, 102, 103, 104),\n",
       " 'names': ('Raman', 'Thaman', 'Suman', 'Baman'),\n",
       " 'salary': (45000, 40000, 35000, 56000)}"
      ]
     },
     "execution_count": 13,
     "metadata": {},
     "output_type": "execute_result"
    }
   ],
   "source": [
    "emp_data"
   ]
  },
  {
   "cell_type": "code",
   "execution_count": 14,
   "id": "526ae939-8d83-4360-b826-c23859d8443d",
   "metadata": {},
   "outputs": [
    {
     "data": {
      "text/plain": [
       "dict_keys(['ids', 'names', 'salary'])"
      ]
     },
     "execution_count": 14,
     "metadata": {},
     "output_type": "execute_result"
    }
   ],
   "source": [
    "emp_data.keys()"
   ]
  },
  {
   "cell_type": "code",
   "execution_count": 15,
   "id": "34a19d70-8494-4bbf-a8bf-074bab1e6e26",
   "metadata": {},
   "outputs": [
    {
     "data": {
      "text/plain": [
       "dict_values([(101, 102, 103, 104), ('Raman', 'Thaman', 'Suman', 'Baman'), (45000, 40000, 35000, 56000)])"
      ]
     },
     "execution_count": 15,
     "metadata": {},
     "output_type": "execute_result"
    }
   ],
   "source": [
    "emp_data.values()"
   ]
  },
  {
   "cell_type": "code",
   "execution_count": 16,
   "id": "f7d129d4-8563-4671-97d9-00ad539ac60a",
   "metadata": {},
   "outputs": [
    {
     "data": {
      "text/plain": [
       "dict_items([('ids', (101, 102, 103, 104)), ('names', ('Raman', 'Thaman', 'Suman', 'Baman')), ('salary', (45000, 40000, 35000, 56000))])"
      ]
     },
     "execution_count": 16,
     "metadata": {},
     "output_type": "execute_result"
    }
   ],
   "source": [
    "emp_data.items()"
   ]
  },
  {
   "cell_type": "code",
   "execution_count": 17,
   "id": "5adc0257-007e-42c7-b081-15916854e9d6",
   "metadata": {},
   "outputs": [
    {
     "data": {
      "text/plain": [
       "('Raman', 'Thaman', 'Suman', 'Baman')"
      ]
     },
     "execution_count": 17,
     "metadata": {},
     "output_type": "execute_result"
    }
   ],
   "source": [
    "emp_data[\"names\"]"
   ]
  },
  {
   "cell_type": "code",
   "execution_count": 18,
   "id": "39ab7dc9-4c61-450a-bf76-261ed2d8a68c",
   "metadata": {},
   "outputs": [
    {
     "data": {
      "text/plain": [
       "('Raman', 'Thaman', 'Suman', 'Baman')"
      ]
     },
     "execution_count": 18,
     "metadata": {},
     "output_type": "execute_result"
    }
   ],
   "source": [
    "emp_data.get(\"names\")"
   ]
  },
  {
   "cell_type": "code",
   "execution_count": 19,
   "id": "7f1e2110-e88b-4bec-b6b2-73b724b06523",
   "metadata": {},
   "outputs": [],
   "source": [
    "emp_ids = {101,102,102,103,103,103,104}"
   ]
  },
  {
   "cell_type": "code",
   "execution_count": 20,
   "id": "4325d66a-5dfd-4bf4-9bf8-bda2290fe38a",
   "metadata": {},
   "outputs": [
    {
     "data": {
      "text/plain": [
       "{101, 102, 103, 104}"
      ]
     },
     "execution_count": 20,
     "metadata": {},
     "output_type": "execute_result"
    }
   ],
   "source": [
    "emp_ids"
   ]
  },
  {
   "cell_type": "code",
   "execution_count": 21,
   "id": "8eaf1dee-25e1-4e9d-8479-ab68dc810a68",
   "metadata": {},
   "outputs": [],
   "source": [
    "mgr_ids = {201,202,103,106,205}"
   ]
  },
  {
   "cell_type": "code",
   "execution_count": 22,
   "id": "5e213c63-da26-4250-9a68-6eb7740c3425",
   "metadata": {},
   "outputs": [
    {
     "data": {
      "text/plain": [
       "{103}"
      ]
     },
     "execution_count": 22,
     "metadata": {},
     "output_type": "execute_result"
    }
   ],
   "source": [
    "emp_ids.intersection(mgr_ids)"
   ]
  },
  {
   "cell_type": "code",
   "execution_count": 23,
   "id": "52fac8b5-5cdf-45a7-ac26-f85b79a7abab",
   "metadata": {},
   "outputs": [
    {
     "data": {
      "text/plain": [
       "{101, 102, 103, 104, 106, 201, 202, 205}"
      ]
     },
     "execution_count": 23,
     "metadata": {},
     "output_type": "execute_result"
    }
   ],
   "source": [
    "emp_ids.union(mgr_ids)"
   ]
  },
  {
   "cell_type": "code",
   "execution_count": 24,
   "id": "116bb248-9583-445a-9b4f-e1224f5fde4d",
   "metadata": {},
   "outputs": [
    {
     "data": {
      "text/plain": [
       "{101, 102, 104}"
      ]
     },
     "execution_count": 24,
     "metadata": {},
     "output_type": "execute_result"
    }
   ],
   "source": [
    "emp_ids.difference(mgr_ids)"
   ]
  },
  {
   "cell_type": "code",
   "execution_count": null,
   "id": "efc0aee3-9172-434b-9df8-2b4f6d49fd64",
   "metadata": {},
   "outputs": [],
   "source": []
  },
  {
   "cell_type": "code",
   "execution_count": null,
   "id": "14ac6d50-23c4-449a-bdcb-4bc085f03b20",
   "metadata": {},
   "outputs": [],
   "source": []
  },
  {
   "cell_type": "code",
   "execution_count": null,
   "id": "bf3429ce-e044-4d30-8722-0a0dab9e236e",
   "metadata": {},
   "outputs": [],
   "source": []
  },
  {
   "cell_type": "code",
   "execution_count": null,
   "id": "d809218e-e633-414a-9b3f-e76ac83003b3",
   "metadata": {},
   "outputs": [],
   "source": []
  },
  {
   "cell_type": "code",
   "execution_count": null,
   "id": "1faf8276-6626-4a56-a9dc-c074dc41cc70",
   "metadata": {},
   "outputs": [],
   "source": []
  },
  {
   "cell_type": "code",
   "execution_count": null,
   "id": "476c7472-dd1c-4617-91b1-3b047273d1e0",
   "metadata": {},
   "outputs": [],
   "source": []
  }
 ],
 "metadata": {
  "kernelspec": {
   "display_name": "Python 3 (ipykernel)",
   "language": "python",
   "name": "python3"
  },
  "language_info": {
   "codemirror_mode": {
    "name": "ipython",
    "version": 3
   },
   "file_extension": ".py",
   "mimetype": "text/x-python",
   "name": "python",
   "nbconvert_exporter": "python",
   "pygments_lexer": "ipython3",
   "version": "3.13.5"
  }
 },
 "nbformat": 4,
 "nbformat_minor": 5
}
