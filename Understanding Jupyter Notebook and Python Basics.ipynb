{
 "cells": [
  {
   "cell_type": "markdown",
   "id": "a6d0296a-a634-4e0d-b634-d96471679def",
   "metadata": {},
   "source": [
    "# Python Basics"
   ]
  },
  {
   "cell_type": "markdown",
   "id": "b56e4285-7f19-4572-935e-3d69a63696cf",
   "metadata": {},
   "source": [
    "## Cells in Python\n",
    "1. **Code** - To write python code. **Code cell is the default cell**\n",
    "2. **Markdown** - To add detailed text/image/table content supporting the context of code written.\n",
    "3. **Raw** - Less used cell. Here, you can write output directly. Raw cells are not evaluated by the notebook."
   ]
  },
  {
   "attachments": {
    "5a93cdbd-16ab-4a64-b4e7-0c719a0e081f.png": {
     "image/png": "[encoded data removed]"
    }
   },
   "cell_type": "markdown",
   "id": "5911fcbb-06b5-415f-885a-7158121424e0",
   "metadata": {},
   "source": [
    "### Markdown cells are used to document the details of code written. You can support the context with the help of text or images or tabular content\n",
    "### You can switch to Markdown cell using cell menu or select a cell, use keyboard shorcut m \n",
    "![image.png](attachment:5a93cdbd-16ab-4a64-b4e7-0c719a0e081f.png)\n",
    "\n",
    "#### You can add headings(titles) to the text. There are 6 different heading styles we can use (heading1 - heading6).\n",
    "##### Refer the documentation for more details: https://jupyter-notebook.readthedocs.io/en/stable/examples/Notebook/Working%20With%20Markdown%20Cells.html"
   ]
  },
  {
   "cell_type": "markdown",
   "id": "b15bc32f-98d8-48ce-b84b-861ab0c87e99",
   "metadata": {},
   "source": [
    "----------------------------------------------------------------------------------------"
   ]
  },
  {
   "cell_type": "markdown",
   "id": "ac7a7b4e-1134-446d-b5cc-7c746ed74bb6",
   "metadata": {},
   "source": [
    "----------------------------------------------------------------------------------------"
   ]
  },
  {
   "attachments": {
    "993e6beb-23b6-4d65-a439-638dd2e55b91.png": {
     "image/png": "[encoded data removed]"
    }
   },
   "cell_type": "markdown",
   "id": "7509260b-c9e1-4808-b86d-8145a6b51dde",
   "metadata": {},
   "source": [
    "#### Let's write our first code\n",
    "**Remove hashtag and run below statement.**\n",
    "## To Run a cell, you can click on ![image.png](attachment:993e6beb-23b6-4d65-a439-638dd2e55b91.png) or use keyboard shortcut SHIFT+ENTER"
   ]
  },
  {
   "cell_type": "code",
   "execution_count": null,
   "id": "8409e4b4-340a-4693-9bfe-49611f4ba15a",
   "metadata": {},
   "outputs": [],
   "source": [
    "#print(\"Hello Everyone. Welcome to the Session Python Basics\")"
   ]
  },
  {
   "cell_type": "code",
   "execution_count": null,
   "id": "259b01bd-15e5-488e-8864-f9fbbb2748b1",
   "metadata": {},
   "outputs": [],
   "source": [
    "# you can try to print a statement on your own."
   ]
  },
  {
   "cell_type": "code",
   "execution_count": null,
   "id": "8367d10c-96ca-44d0-bc21-66cda3a508cb",
   "metadata": {},
   "outputs": [],
   "source": []
  },
  {
   "cell_type": "markdown",
   "id": "0857fb90-0f12-4575-bf53-4d169475af22",
   "metadata": {},
   "source": [
    "**To add new cell click on + button or short cut key is B will add cell below**\n",
    "\n",
    "**To switch code cell to markdown click outside cell and m**\n",
    "\n",
    "**To switch markdown cell to code cell click outside cell and y**"
   ]
  },
  {
   "cell_type": "code",
   "execution_count": null,
   "id": "ec598c2c-2590-48ea-a32c-f2058b6a5e30",
   "metadata": {},
   "outputs": [],
   "source": []
  },
  {
   "attachments": {},
   "cell_type": "markdown",
   "id": "2bfd9b98-379d-4fe8-807f-3fcac11f2a81",
   "metadata": {},
   "source": [
    "### Variables\n",
    "Variables are used to store data. In python, we don’t have to declare the datatype of variable while creating it. \n",
    "Below are key rules to remember while creating a variable. Variable name :\n",
    "\n",
    "    must be unique\n",
    "    must start with alphabets or _ (cannot start with numbers)\n",
    "    Can be alphanumeric\n",
    "    Case sensitive "
   ]
  },
  {
   "cell_type": "markdown",
   "id": "c342e161-775b-4f9a-97b4-fe5d33996810",
   "metadata": {},
   "source": [
    "**Remove hashtags and run below statements.**"
   ]
  },
  {
   "cell_type": "code",
   "execution_count": null,
   "id": "d019de71-5169-4ee2-a946-f14362258441",
   "metadata": {},
   "outputs": [],
   "source": [
    "#name1 = \"Raman\""
   ]
  },
  {
   "cell_type": "code",
   "execution_count": null,
   "id": "38d01816-7cb8-4fad-9658-b08580d3664c",
   "metadata": {},
   "outputs": [],
   "source": [
    "#name2 = 'Suman'"
   ]
  },
  {
   "cell_type": "code",
   "execution_count": null,
   "id": "f5ec35d0-506f-4abb-864c-4b3d954b65aa",
   "metadata": {},
   "outputs": [],
   "source": [
    "#mobile = 689567456"
   ]
  },
  {
   "cell_type": "code",
   "execution_count": null,
   "id": "a38866f9-afa3-44ea-b89c-53c00b6886db",
   "metadata": {},
   "outputs": [],
   "source": [
    "#temp = 90.8"
   ]
  },
  {
   "cell_type": "code",
   "execution_count": null,
   "id": "3b01b68c-afdd-41b9-85ad-309abf604ede",
   "metadata": {},
   "outputs": [],
   "source": [
    "#_married = True"
   ]
  },
  {
   "cell_type": "markdown",
   "id": "656296d3-15a7-4712-97e1-6095a03f629f",
   "metadata": {},
   "source": [
    "Case Sensitive with an example: name1 and Name1 are 2 different variables"
   ]
  },
  {
   "cell_type": "code",
   "execution_count": null,
   "id": "65bf6b68-4963-4f00-9612-5f44cc13a594",
   "metadata": {},
   "outputs": [],
   "source": [
    "#Name1 = \"Thaman\""
   ]
  },
  {
   "cell_type": "markdown",
   "id": "2529dabd-de62-4694-8e14-60b140a7762b",
   "metadata": {},
   "source": [
    "Running below cell will give you an error as we cannot start the variable name with numbers"
   ]
  },
  {
   "cell_type": "code",
   "execution_count": null,
   "id": "b7b2c43b-185f-4f13-a588-8ff8986733b8",
   "metadata": {},
   "outputs": [],
   "source": [
    "#1name = \"Baman\""
   ]
  },
  {
   "cell_type": "code",
   "execution_count": null,
   "id": "5986d6a3-9299-4daa-ba95-8ec73e5be9a5",
   "metadata": {},
   "outputs": [],
   "source": []
  },
  {
   "cell_type": "code",
   "execution_count": null,
   "id": "83741f43-ce19-49a7-9953-d950df24ec3a",
   "metadata": {},
   "outputs": [],
   "source": []
  },
  {
   "cell_type": "markdown",
   "id": "c7a51120-c35c-4de4-981c-1d9fc2679b87",
   "metadata": {},
   "source": [
    "### Check the datatypes of variables defined using type function\n",
    "type(variable_name)"
   ]
  },
  {
   "cell_type": "code",
   "execution_count": null,
   "id": "80f7cbb4-ba7d-415b-9803-55eca4c1cdc0",
   "metadata": {},
   "outputs": [],
   "source": [
    "#type(name1)"
   ]
  },
  {
   "cell_type": "code",
   "execution_count": null,
   "id": "b52fe151-b747-431c-a094-b39f12f2a05b",
   "metadata": {},
   "outputs": [],
   "source": [
    "#type(_married)"
   ]
  },
  {
   "cell_type": "code",
   "execution_count": null,
   "id": "00b73ce5-0214-47be-966f-40687a3819e6",
   "metadata": {},
   "outputs": [],
   "source": [
    "#type(temp)"
   ]
  },
  {
   "cell_type": "code",
   "execution_count": null,
   "id": "a7982ac5-851e-4e93-8e6b-46c49d0746e5",
   "metadata": {},
   "outputs": [],
   "source": [
    "#type(mobile)"
   ]
  },
  {
   "cell_type": "code",
   "execution_count": null,
   "id": "d2c8eff3-029f-4d45-b1f6-b39f1302506d",
   "metadata": {},
   "outputs": [],
   "source": []
  },
  {
   "cell_type": "code",
   "execution_count": null,
   "id": "45d1be62-7250-4053-afd4-e32057219618",
   "metadata": {},
   "outputs": [],
   "source": []
  },
  {
   "cell_type": "markdown",
   "id": "954c6b73-9abd-40cb-8402-21502a7dbdd9",
   "metadata": {},
   "source": [
    "### Operators\n",
    "    1. Arithmetic Operators : Addition,Multiplication, Division, Power\n",
    "    2. Logical Operators : AND, OR, NOT\n",
    "    3. Comparision Operators: Greater than,Less than, Equal to\n",
    "    4. Membership Operators: IN, NOT IN"
   ]
  },
  {
   "cell_type": "markdown",
   "id": "dcdb1bc7-326f-4cda-98ff-0fddd7b279be",
   "metadata": {},
   "source": [
    "#### Arithmetic Operators"
   ]
  },
  {
   "cell_type": "code",
   "execution_count": null,
   "id": "b78f700a-56da-4f5f-a289-ee2e8029ad69",
   "metadata": {},
   "outputs": [],
   "source": [
    "# a = 25\n",
    "# b = 45"
   ]
  },
  {
   "cell_type": "code",
   "execution_count": null,
   "id": "e1f12aa7-e32b-4ee0-8852-90905a81d97a",
   "metadata": {},
   "outputs": [],
   "source": [
    "#addition\n",
    "# a + b"
   ]
  },
  {
   "cell_type": "code",
   "execution_count": null,
   "id": "b0181ff9-070f-41b1-bf95-068637c16706",
   "metadata": {},
   "outputs": [],
   "source": [
    "# c= a+ b"
   ]
  },
  {
   "cell_type": "code",
   "execution_count": null,
   "id": "a3832d64-2b78-41ca-b9d3-17d8a1dcc100",
   "metadata": {},
   "outputs": [],
   "source": [
    "#multiplication"
   ]
  },
  {
   "cell_type": "code",
   "execution_count": null,
   "id": "27342bad-f508-46b7-9257-ca8bf211c0f9",
   "metadata": {},
   "outputs": [],
   "source": []
  },
  {
   "cell_type": "code",
   "execution_count": null,
   "id": "e9e7c3b1-5b7e-4f3e-932c-d0ecdd371511",
   "metadata": {},
   "outputs": [],
   "source": [
    "#subtraction"
   ]
  },
  {
   "cell_type": "code",
   "execution_count": null,
   "id": "96009954-9513-4cb4-82fd-fac6bcac1083",
   "metadata": {},
   "outputs": [],
   "source": []
  },
  {
   "cell_type": "code",
   "execution_count": null,
   "id": "0f16ba60-eb2b-46d4-81b0-8550aaf13a3b",
   "metadata": {},
   "outputs": [],
   "source": [
    "#division"
   ]
  },
  {
   "cell_type": "code",
   "execution_count": null,
   "id": "1d971e00-1a50-4764-8b42-1f096ca91e0d",
   "metadata": {},
   "outputs": [],
   "source": []
  },
  {
   "cell_type": "code",
   "execution_count": null,
   "id": "bf9afad1-2f8f-4a6a-9d8f-b92c3945835b",
   "metadata": {},
   "outputs": [],
   "source": [
    "# remainder: modulus"
   ]
  },
  {
   "cell_type": "code",
   "execution_count": null,
   "id": "7d7e4c6d-a5f2-438a-af9d-28606f277189",
   "metadata": {},
   "outputs": [],
   "source": []
  },
  {
   "cell_type": "code",
   "execution_count": null,
   "id": "72cb26a3-8f97-439b-8cc6-644b9f51504f",
   "metadata": {},
   "outputs": [],
   "source": [
    "#power"
   ]
  },
  {
   "cell_type": "code",
   "execution_count": null,
   "id": "686c4a9a-308e-4e70-9096-2f7aa62d5dfd",
   "metadata": {},
   "outputs": [],
   "source": []
  },
  {
   "cell_type": "markdown",
   "id": "18a89299-01a0-4c04-bd94-0f290d2ac197",
   "metadata": {},
   "source": [
    "#### Comparision Operators"
   ]
  },
  {
   "cell_type": "code",
   "execution_count": null,
   "id": "d5ea2ee3-cb9e-4782-bf20-29f213f82372",
   "metadata": {},
   "outputs": [],
   "source": [
    "# a==b"
   ]
  },
  {
   "cell_type": "code",
   "execution_count": null,
   "id": "3c917c6c-bba1-41ce-89f5-bb72fadcc303",
   "metadata": {},
   "outputs": [],
   "source": [
    "# a!=b"
   ]
  },
  {
   "cell_type": "code",
   "execution_count": 3,
   "id": "be89922b-7640-4b97-8ecb-2b7d4d414def",
   "metadata": {},
   "outputs": [],
   "source": [
    "a = 'Data'\n",
    "b = 'Science'\n",
    "c = 'Data'"
   ]
  },
  {
   "cell_type": "code",
   "execution_count": 4,
   "id": "2956d013-e69c-480d-93c2-661dcea3f801",
   "metadata": {},
   "outputs": [
    {
     "data": {
      "text/plain": [
       "False"
      ]
     },
     "execution_count": 4,
     "metadata": {},
     "output_type": "execute_result"
    }
   ],
   "source": [
    "a==b"
   ]
  },
  {
   "cell_type": "code",
   "execution_count": 5,
   "id": "59883271-ff35-469e-b92c-bfc70a0a344d",
   "metadata": {},
   "outputs": [
    {
     "data": {
      "text/plain": [
       "True"
      ]
     },
     "execution_count": 5,
     "metadata": {},
     "output_type": "execute_result"
    }
   ],
   "source": [
    "a==c"
   ]
  },
  {
   "cell_type": "markdown",
   "id": "1ec50ef8-8a37-4768-8eba-f3ca341afe17",
   "metadata": {},
   "source": [
    "#### Logical Operators"
   ]
  },
  {
   "cell_type": "code",
   "execution_count": null,
   "id": "c2baceaf-821d-464d-a059-8ad2695d0fb9",
   "metadata": {},
   "outputs": [],
   "source": [
    "# c = 45\n",
    "# d = 90"
   ]
  },
  {
   "cell_type": "code",
   "execution_count": null,
   "id": "ac8c2773-e910-4e15-8ea8-ecb24d39b007",
   "metadata": {},
   "outputs": [],
   "source": [
    "# a>b and c>d"
   ]
  },
  {
   "cell_type": "code",
   "execution_count": null,
   "id": "7f64cd73-9960-42b1-ba56-b9d4c4fafabd",
   "metadata": {},
   "outputs": [],
   "source": [
    "# a>b or c>d"
   ]
  },
  {
   "cell_type": "code",
   "execution_count": null,
   "id": "8b5aaa7e-7366-47f3-9eb8-f541fbb87544",
   "metadata": {},
   "outputs": [],
   "source": []
  },
  {
   "cell_type": "code",
   "execution_count": null,
   "id": "42449c0d-225b-48f0-9e0f-7897abb55c57",
   "metadata": {},
   "outputs": [],
   "source": []
  },
  {
   "cell_type": "markdown",
   "id": "225472ff-0076-42b0-be5b-756df3302f4e",
   "metadata": {},
   "source": [
    "#### Membership Operators: will be discussed after Lists/Tuples are introduced"
   ]
  },
  {
   "cell_type": "code",
   "execution_count": null,
   "id": "ff604df1-b435-4757-82a3-c715548cbd37",
   "metadata": {},
   "outputs": [],
   "source": [
    "# data1 = [34,56,78,90]"
   ]
  },
  {
   "cell_type": "code",
   "execution_count": null,
   "id": "20a2a813-908b-4091-a8da-09442280ff54",
   "metadata": {},
   "outputs": [],
   "source": [
    "# 90 in data1"
   ]
  },
  {
   "cell_type": "code",
   "execution_count": null,
   "id": "a8b8880c-0665-4740-bd96-c5dddb514cbd",
   "metadata": {},
   "outputs": [],
   "source": [
    "# 33 in data1"
   ]
  },
  {
   "cell_type": "code",
   "execution_count": null,
   "id": "510e66fa-9a8a-48a9-ae76-16fde0bbab4e",
   "metadata": {},
   "outputs": [],
   "source": [
    "#data2 = (\"raman\",\"thaman\",\"suman\",\"naman\")"
   ]
  },
  {
   "cell_type": "code",
   "execution_count": null,
   "id": "3f205e35-3564-494c-b4ba-f4909ef58538",
   "metadata": {},
   "outputs": [],
   "source": [
    "#\"chaman\" not in data2"
   ]
  },
  {
   "cell_type": "code",
   "execution_count": null,
   "id": "3a0f5723-102b-4cb2-a6a8-53089121b1ad",
   "metadata": {},
   "outputs": [],
   "source": []
  }
 ],
 "metadata": {
  "kernelspec": {
   "display_name": "Python 3 (ipykernel)",
   "language": "python",
   "name": "python3"
  },
  "language_info": {
   "codemirror_mode": {
    "name": "ipython",
    "version": 3
   },
   "file_extension": ".py",
   "mimetype": "text/x-python",
   "name": "python",
   "nbconvert_exporter": "python",
   "pygments_lexer": "ipython3",
   "version": "3.13.5"
  }
 },
 "nbformat": 4,
 "nbformat_minor": 5
}
